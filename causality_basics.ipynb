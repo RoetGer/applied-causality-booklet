{
  "nbformat": 4,
  "nbformat_minor": 0,
  "metadata": {
    "colab": {
      "name": "causality_basics.ipynb",
      "provenance": [],
      "collapsed_sections": [],
      "toc_visible": true,
      "authorship_tag": "ABX9TyNZt97XuvHyMcbryZxTKLtG",
      "include_colab_link": true
    },
    "kernelspec": {
      "name": "python3",
      "display_name": "Python 3"
    },
    "language_info": {
      "name": "python"
    }
  },
  "cells": [
    {
      "cell_type": "markdown",
      "metadata": {
        "id": "view-in-github",
        "colab_type": "text"
      },
      "source": [
        "<a href=\"https://colab.research.google.com/github/RoetGer/applied-causality-booklet/blob/main/causality_basics.ipynb\" target=\"_parent\"><img src=\"https://colab.research.google.com/assets/colab-badge.svg\" alt=\"Open In Colab\"/></a>"
      ]
    },
    {
      "cell_type": "markdown",
      "metadata": {
        "id": "9k1gdAdPO1rN"
      },
      "source": [
        "# Basics of Causality in Data Science\n",
        "\n",
        "---\n",
        "\n"
      ]
    },
    {
      "cell_type": "code",
      "metadata": {
        "id": "OcnTiSoqOwxc"
      },
      "source": [
        "import matplotlib.pyplot as plt\n",
        "import numpy as np\n",
        "import pandas as pd\n",
        "import statsmodels.api as sm\n",
        "\n",
        "from graphviz import Digraph\n",
        "from IPython.display import Image\n",
        "\n",
        "plt.rc('figure', figsize=(12, 10))\n",
        "plt.rc('font', size=16);"
      ],
      "execution_count": 18,
      "outputs": []
    },
    {
      "cell_type": "markdown",
      "metadata": {
        "id": "sa2TSugsWYWi"
      },
      "source": [
        "## Association vs Causality\n",
        "\n",
        "A first important milestone in understanding on how causality affects us as data scientists is to acknowledge the difference between association and causality. Or to put it more concisely: \"Correlation does not imply causation\".\n",
        "\n",
        "Let's look at some data:"
      ]
    },
    {
      "cell_type": "code",
      "metadata": {
        "colab": {
          "base_uri": "https://localhost:8080/",
          "height": 615
        },
        "id": "eNrxUBlWUyIM",
        "outputId": "308c2f43-6826-4603-d9d1-479e6c5d7fa9"
      },
      "source": [
        "def get_data(effect_size, seed=5):\n",
        "  np.random.seed(seed)\n",
        "\n",
        "  x = np.random.uniform(high=10., size=100)\n",
        "  y = effect_size*x + np.random.normal(size=100)\n",
        "\n",
        "  return pd.DataFrame({\n",
        "      'X': x,\n",
        "      'y': y\n",
        "  })\n",
        "\n",
        "data = get_data(effect_size=3.)\n",
        "data.plot.scatter('X', 'y');"
      ],
      "execution_count": 38,
      "outputs": [
        {
          "output_type": "display_data",
          "data": {
            "image/png": "[encoded data removed]",
            "text/plain": [
              "<Figure size 864x720 with 1 Axes>"
            ]
          },
          "metadata": {
            "tags": [],
            "needs_background": "light"
          }
        }
      ]
    },
    {
      "cell_type": "code",
      "metadata": {
        "colab": {
          "base_uri": "https://localhost:8080/",
          "height": 370
        },
        "id": "8Fge6GD6Z5D2",
        "outputId": "427423bb-a09d-4a3c-fa91-67b7d8dda5a9"
      },
      "source": [
        "mdl = sm.OLS(endog=data.y, exog=data.X).fit()\n",
        "mdl.summary()"
      ],
      "execution_count": 39,
      "outputs": [
        {
          "output_type": "execute_result",
          "data": {
            "text/html": [
              "<table class=\"simpletable\">\n",
              "<caption>OLS Regression Results</caption>\n",
              "<tr>\n",
              "  <th>Dep. Variable:</th>            <td>y</td>        <th>  R-squared (uncentered):</th>      <td>   0.996</td> \n",
              "</tr>\n",
              "<tr>\n",
              "  <th>Model:</th>                   <td>OLS</td>       <th>  Adj. R-squared (uncentered):</th> <td>   0.996</td> \n",
              "</tr>\n",
              "<tr>\n",
              "  <th>Method:</th>             <td>Least Squares</td>  <th>  F-statistic:       </th>          <td>2.770e+04</td>\n",
              "</tr>\n",
              "<tr>\n",
              "  <th>Date:</th>             <td>Sun, 02 May 2021</td> <th>  Prob (F-statistic):</th>          <td>5.11e-123</td>\n",
              "</tr>\n",
              "<tr>\n",
              "  <th>Time:</th>                 <td>21:16:46</td>     <th>  Log-Likelihood:    </th>          <td> -145.55</td> \n",
              "</tr>\n",
              "<tr>\n",
              "  <th>No. Observations:</th>      <td>   100</td>      <th>  AIC:               </th>          <td>   293.1</td> \n",
              "</tr>\n",
              "<tr>\n",
              "  <th>Df Residuals:</th>          <td>    99</td>      <th>  BIC:               </th>          <td>   295.7</td> \n",
              "</tr>\n",
              "<tr>\n",
              "  <th>Df Model:</th>              <td>     1</td>      <th>                     </th>              <td> </td>    \n",
              "</tr>\n",
              "<tr>\n",
              "  <th>Covariance Type:</th>      <td>nonrobust</td>    <th>                     </th>              <td> </td>    \n",
              "</tr>\n",
              "</table>\n",
              "<table class=\"simpletable\">\n",
              "<tr>\n",
              "  <td></td>     <th>coef</th>     <th>std err</th>      <th>t</th>      <th>P>|t|</th>  <th>[0.025</th>    <th>0.975]</th>  \n",
              "</tr>\n",
              "<tr>\n",
              "  <th>X</th> <td>    3.0030</td> <td>    0.018</td> <td>  166.431</td> <td> 0.000</td> <td>    2.967</td> <td>    3.039</td>\n",
              "</tr>\n",
              "</table>\n",
              "<table class=\"simpletable\">\n",
              "<tr>\n",
              "  <th>Omnibus:</th>       <td> 0.710</td> <th>  Durbin-Watson:     </th> <td>   1.660</td>\n",
              "</tr>\n",
              "<tr>\n",
              "  <th>Prob(Omnibus):</th> <td> 0.701</td> <th>  Jarque-Bera (JB):  </th> <td>   0.829</td>\n",
              "</tr>\n",
              "<tr>\n",
              "  <th>Skew:</th>          <td> 0.125</td> <th>  Prob(JB):          </th> <td>   0.661</td>\n",
              "</tr>\n",
              "<tr>\n",
              "  <th>Kurtosis:</th>      <td> 2.630</td> <th>  Cond. No.          </th> <td>    1.00</td>\n",
              "</tr>\n",
              "</table><br/><br/>Warnings:<br/>[1] Standard Errors assume that the covariance matrix of the errors is correctly specified."
            ],
            "text/plain": [
              "<class 'statsmodels.iolib.summary.Summary'>\n",
              "\"\"\"\n",
              "                                 OLS Regression Results                                \n",
              "=======================================================================================\n",
              "Dep. Variable:                      y   R-squared (uncentered):                   0.996\n",
              "Model:                            OLS   Adj. R-squared (uncentered):              0.996\n",
              "Method:                 Least Squares   F-statistic:                          2.770e+04\n",
              "Date:                Sun, 02 May 2021   Prob (F-statistic):                   5.11e-123\n",
              "Time:                        21:16:46   Log-Likelihood:                         -145.55\n",
              "No. Observations:                 100   AIC:                                      293.1\n",
              "Df Residuals:                      99   BIC:                                      295.7\n",
              "Df Model:                           1                                                  \n",
              "Covariance Type:            nonrobust                                                  \n",
              "==============================================================================\n",
              "                 coef    std err          t      P>|t|      [0.025      0.975]\n",
              "------------------------------------------------------------------------------\n",
              "X              3.0030      0.018    166.431      0.000       2.967       3.039\n",
              "==============================================================================\n",
              "Omnibus:                        0.710   Durbin-Watson:                   1.660\n",
              "Prob(Omnibus):                  0.701   Jarque-Bera (JB):                0.829\n",
              "Skew:                           0.125   Prob(JB):                        0.661\n",
              "Kurtosis:                       2.630   Cond. No.                         1.00\n",
              "==============================================================================\n",
              "\n",
              "Warnings:\n",
              "[1] Standard Errors assume that the covariance matrix of the errors is correctly specified.\n",
              "\"\"\""
            ]
          },
          "metadata": {
            "tags": []
          },
          "execution_count": 39
        }
      ]
    },
    {
      "cell_type": "markdown",
      "metadata": {
        "id": "Xjepb0XLbObd"
      },
      "source": [
        "For the sampled dataset it is easy to recover a relationship between X and y. However, we implicitly assumed that y depends on X, although this was not stated anywhere, we could have also regressed X on y, i.e.:"
      ]
    },
    {
      "cell_type": "code",
      "metadata": {
        "colab": {
          "base_uri": "https://localhost:8080/",
          "height": 370
        },
        "id": "M9Xdp8-_Y_aY",
        "outputId": "06c56b25-08e7-464a-94f2-dcd528ac94d1"
      },
      "source": [
        "mdl = sm.OLS(endog=data.X, exog=data.y).fit()\n",
        "mdl.summary()"
      ],
      "execution_count": 40,
      "outputs": [
        {
          "output_type": "execute_result",
          "data": {
            "text/html": [
              "<table class=\"simpletable\">\n",
              "<caption>OLS Regression Results</caption>\n",
              "<tr>\n",
              "  <th>Dep. Variable:</th>            <td>X</td>        <th>  R-squared (uncentered):</th>      <td>   0.996</td> \n",
              "</tr>\n",
              "<tr>\n",
              "  <th>Model:</th>                   <td>OLS</td>       <th>  Adj. R-squared (uncentered):</th> <td>   0.996</td> \n",
              "</tr>\n",
              "<tr>\n",
              "  <th>Method:</th>             <td>Least Squares</td>  <th>  F-statistic:       </th>          <td>2.770e+04</td>\n",
              "</tr>\n",
              "<tr>\n",
              "  <th>Date:</th>             <td>Sun, 02 May 2021</td> <th>  Prob (F-statistic):</th>          <td>5.11e-123</td>\n",
              "</tr>\n",
              "<tr>\n",
              "  <th>Time:</th>                 <td>21:16:51</td>     <th>  Log-Likelihood:    </th>          <td> -35.411</td> \n",
              "</tr>\n",
              "<tr>\n",
              "  <th>No. Observations:</th>      <td>   100</td>      <th>  AIC:               </th>          <td>   72.82</td> \n",
              "</tr>\n",
              "<tr>\n",
              "  <th>Df Residuals:</th>          <td>    99</td>      <th>  BIC:               </th>          <td>   75.43</td> \n",
              "</tr>\n",
              "<tr>\n",
              "  <th>Df Model:</th>              <td>     1</td>      <th>                     </th>              <td> </td>    \n",
              "</tr>\n",
              "<tr>\n",
              "  <th>Covariance Type:</th>      <td>nonrobust</td>    <th>                     </th>              <td> </td>    \n",
              "</tr>\n",
              "</table>\n",
              "<table class=\"simpletable\">\n",
              "<tr>\n",
              "  <td></td>     <th>coef</th>     <th>std err</th>      <th>t</th>      <th>P>|t|</th>  <th>[0.025</th>    <th>0.975]</th>  \n",
              "</tr>\n",
              "<tr>\n",
              "  <th>y</th> <td>    0.3318</td> <td>    0.002</td> <td>  166.431</td> <td> 0.000</td> <td>    0.328</td> <td>    0.336</td>\n",
              "</tr>\n",
              "</table>\n",
              "<table class=\"simpletable\">\n",
              "<tr>\n",
              "  <th>Omnibus:</th>       <td> 0.719</td> <th>  Durbin-Watson:     </th> <td>   1.660</td>\n",
              "</tr>\n",
              "<tr>\n",
              "  <th>Prob(Omnibus):</th> <td> 0.698</td> <th>  Jarque-Bera (JB):  </th> <td>   0.837</td>\n",
              "</tr>\n",
              "<tr>\n",
              "  <th>Skew:</th>          <td>-0.126</td> <th>  Prob(JB):          </th> <td>   0.658</td>\n",
              "</tr>\n",
              "<tr>\n",
              "  <th>Kurtosis:</th>      <td> 2.629</td> <th>  Cond. No.          </th> <td>    1.00</td>\n",
              "</tr>\n",
              "</table><br/><br/>Warnings:<br/>[1] Standard Errors assume that the covariance matrix of the errors is correctly specified."
            ],
            "text/plain": [
              "<class 'statsmodels.iolib.summary.Summary'>\n",
              "\"\"\"\n",
              "                                 OLS Regression Results                                \n",
              "=======================================================================================\n",
              "Dep. Variable:                      X   R-squared (uncentered):                   0.996\n",
              "Model:                            OLS   Adj. R-squared (uncentered):              0.996\n",
              "Method:                 Least Squares   F-statistic:                          2.770e+04\n",
              "Date:                Sun, 02 May 2021   Prob (F-statistic):                   5.11e-123\n",
              "Time:                        21:16:51   Log-Likelihood:                         -35.411\n",
              "No. Observations:                 100   AIC:                                      72.82\n",
              "Df Residuals:                      99   BIC:                                      75.43\n",
              "Df Model:                           1                                                  \n",
              "Covariance Type:            nonrobust                                                  \n",
              "==============================================================================\n",
              "                 coef    std err          t      P>|t|      [0.025      0.975]\n",
              "------------------------------------------------------------------------------\n",
              "y              0.3318      0.002    166.431      0.000       0.328       0.336\n",
              "==============================================================================\n",
              "Omnibus:                        0.719   Durbin-Watson:                   1.660\n",
              "Prob(Omnibus):                  0.698   Jarque-Bera (JB):                0.837\n",
              "Skew:                          -0.126   Prob(JB):                        0.658\n",
              "Kurtosis:                       2.629   Cond. No.                         1.00\n",
              "==============================================================================\n",
              "\n",
              "Warnings:\n",
              "[1] Standard Errors assume that the covariance matrix of the errors is correctly specified.\n",
              "\"\"\""
            ]
          },
          "metadata": {
            "tags": []
          },
          "execution_count": 40
        }
      ]
    },
    {
      "cell_type": "markdown",
      "metadata": {
        "id": "GPTjU33sgRYC"
      },
      "source": [
        "Based on the get_data function, the first approach is the correct one (we simply multiply X by 3 and then add some noise). However, the data alone cannot tell us which direction is the proper one. Without any assumptions/knowledge about the underlying causal structure, we can only talk about associations, which in case of the linear regression are basically conditional expectations, i.e. $\\mathbb{E}[Y|X]$ and $\\mathbb{E}[X|Y]$. This gives us the power to answer questions of the nature: \"We have observed X, what do we expect to see for Y\", e.g.:\n",
        "\n",
        "* \"A customer x has an income of 10.000 Euro, what would we expect this customer spends on leisure articles?\"\n",
        "* \"We can see it rain, what is the chance that our driveway is wet?\"\n",
        "* \"An applicant for a personal loan works as a teacher, what is the estimated probability that they will default\"\n",
        "\n",
        "In contrast, causality goes beyond merely observing what is happening and tries to infer the concrete impact of one variable onto another one. This would allow us to make statements about what would happen, if we set a variable to a certain value. In the notation developed by Pearl, we would use the do-operator and write: $\\mathbb{E}[Y|\\text{do}(X)]$ and $\\mathbb{E}[X|\\text{do}(Y)]$ to differentiate this setting from the classical one, where we just infer associative relationships.\n",
        "\n",
        "Some questions we might be interested in and which tend to have a causal twist to them:\n",
        "\n",
        "* \"What was the concrete impact of calling the customer in their decision to purchase the service?\"\n",
        "* \"If we turn on the sprinkler, what is the chance that the driveway gets wet?\"\n",
        "* \"What would the result of my A/B test best, if everyone did what they were supposed to do?\" \n",
        "* \"Which variables do we have to measure in order for us to determine whether an advertisement campaign is worth its money?\"\n",
        "\n",
        "\n"
      ]
    },
    {
      "cell_type": "markdown",
      "metadata": {
        "id": "3tVdm-4F7Yr1"
      },
      "source": [
        "## Basic Building Blocks for Working with Causality"
      ]
    },
    {
      "cell_type": "markdown",
      "metadata": {
        "id": "7km3h23O7qW1"
      },
      "source": [
        "### A Graphical View\n",
        "\n",
        "One of the core takeaways from Pearl's work is that graphs are a great tool to depict and analyse issues of causality.\n",
        "\n",
        "As a first step, we can present how we would depict the problem from the previous sections with graphs"
      ]
    },
    {
      "cell_type": "code",
      "metadata": {
        "colab": {
          "base_uri": "https://localhost:8080/",
          "height": 172
        },
        "id": "6GnXjSjrZP1l",
        "outputId": "3d424226-e8a0-4a7e-b5a3-ced67a9cb76f"
      },
      "source": [
        "dot = Digraph()\n",
        "\n",
        "dot.node('X')\n",
        "dot.node('y')\n",
        "\n",
        "dot.edges(['Xy'])\n",
        "dot.render('Xy_relationship', view=True, format='png')\n",
        "Image('Xy_relationship.png')"
      ],
      "execution_count": 41,
      "outputs": [
        {
          "output_type": "execute_result",
          "data": {
            "image/png": "[encoded data removed]",
            "text/plain": [
              "<IPython.core.display.Image object>"
            ]
          },
          "metadata": {
            "tags": []
          },
          "execution_count": 41
        }
      ]
    },
    {
      "cell_type": "code",
      "metadata": {
        "colab": {
          "base_uri": "https://localhost:8080/",
          "height": 182
        },
        "id": "R4HLZFp_eouK",
        "outputId": "754ae37b-6b02-4995-a143-201ed12cff90"
      },
      "source": [
        "dot = Digraph()\n",
        "\n",
        "dot.node('X', peripheries='2')\n",
        "dot.node('y')\n",
        "\n",
        "dot.edges(['Xy'])\n",
        "dot.render('Xy_interv', view=True, format='png')\n",
        "Image('Xy_interv.png')"
      ],
      "execution_count": 42,
      "outputs": [
        {
          "output_type": "execute_result",
          "data": {
            "image/png": "[encoded data removed]",
            "text/plain": [
              "<IPython.core.display.Image object>"
            ]
          },
          "metadata": {
            "tags": []
          },
          "execution_count": 42
        }
      ]
    },
    {
      "cell_type": "code",
      "metadata": {
        "colab": {
          "base_uri": "https://localhost:8080/",
          "height": 267
        },
        "id": "kt7Gq8s8lBi-",
        "outputId": "334472ed-f933-4a8e-ea66-c43ea4b500b5"
      },
      "source": [
        "def get_data(seed=5, X_interv=None):\n",
        "  if seed:\n",
        "    np.random.seed(seed)\n",
        "  \n",
        "  Z = np.random.normal(size=100)\n",
        "  X_noise = np.random.normal(scale=0.5, size=100)\n",
        "  \n",
        "  if not X_interv:\n",
        "    X = 3. + 1.5*Z + X_noise\n",
        "  else:\n",
        "    X = X_interv\n",
        "\n",
        "  y = 1. + 2.*X + 2.*Z + np.random.normal(scale=0.25, size=100)\n",
        "\n",
        "  return pd.DataFrame({\n",
        "      'X': X,\n",
        "      'y': y,\n",
        "      'Z': Z\n",
        "  })\n",
        "\n",
        "data = get_data(5)\n",
        "\n",
        "dot = Digraph()\n",
        "\n",
        "dot.node('X')\n",
        "dot.node('Z')\n",
        "dot.node('y')\n",
        "\n",
        "dot.edges(['Xy', 'ZX', 'Zy'])\n",
        "dot.render('XZy_relationship', view=True, format='png')\n",
        "Image('XZy_relationship.png')"
      ],
      "execution_count": 43,
      "outputs": [
        {
          "output_type": "execute_result",
          "data": {
            "image/png": "[encoded data removed]",
            "text/plain": [
              "<IPython.core.display.Image object>"
            ]
          },
          "metadata": {
            "tags": []
          },
          "execution_count": 43
        }
      ]
    },
    {
      "cell_type": "code",
      "metadata": {
        "colab": {
          "base_uri": "https://localhost:8080/",
          "height": 634
        },
        "id": "l83yNR06na8G",
        "outputId": "37e79969-d6e7-41f8-bd92-bbd939afb69b"
      },
      "source": [
        "data.plot.scatter('X', 'y')"
      ],
      "execution_count": 44,
      "outputs": [
        {
          "output_type": "execute_result",
          "data": {
            "text/plain": [
              "<matplotlib.axes._subplots.AxesSubplot at 0x7f0d5499a950>"
            ]
          },
          "metadata": {
            "tags": []
          },
          "execution_count": 44
        },
        {
          "output_type": "display_data",
          "data": {
            "image/png": "[encoded data removed]",
            "text/plain": [
              "<Figure size 864x720 with 1 Axes>"
            ]
          },
          "metadata": {
            "tags": [],
            "needs_background": "light"
          }
        }
      ]
    },
    {
      "cell_type": "code",
      "metadata": {
        "colab": {
          "base_uri": "https://localhost:8080/",
          "height": 634
        },
        "id": "uccr00JuniJM",
        "outputId": "2759c10f-b261-4c9c-d520-53864205e726"
      },
      "source": [
        "data.plot.scatter('Z', 'y')"
      ],
      "execution_count": 45,
      "outputs": [
        {
          "output_type": "execute_result",
          "data": {
            "text/plain": [
              "<matplotlib.axes._subplots.AxesSubplot at 0x7f0d5497fcd0>"
            ]
          },
          "metadata": {
            "tags": []
          },
          "execution_count": 45
        },
        {
          "output_type": "display_data",
          "data": {
            "image/png": "[encoded data removed]",
            "text/plain": [
              "<Figure size 864x720 with 1 Axes>"
            ]
          },
          "metadata": {
            "tags": [],
            "needs_background": "light"
          }
        }
      ]
    },
    {
      "cell_type": "code",
      "metadata": {
        "colab": {
          "base_uri": "https://localhost:8080/",
          "height": 387
        },
        "id": "pRNzFEMWhZAB",
        "outputId": "9ef3cb9d-f675-479b-c889-2fa5b25ddcae"
      },
      "source": [
        "mdl = sm.OLS(endog=data.y, exog=sm.add_constant(data.X)).fit()\n",
        "mdl.summary()"
      ],
      "execution_count": 46,
      "outputs": [
        {
          "output_type": "execute_result",
          "data": {
            "text/html": [
              "<table class=\"simpletable\">\n",
              "<caption>OLS Regression Results</caption>\n",
              "<tr>\n",
              "  <th>Dep. Variable:</th>            <td>y</td>        <th>  R-squared:         </th> <td>   0.983</td>\n",
              "</tr>\n",
              "<tr>\n",
              "  <th>Model:</th>                   <td>OLS</td>       <th>  Adj. R-squared:    </th> <td>   0.982</td>\n",
              "</tr>\n",
              "<tr>\n",
              "  <th>Method:</th>             <td>Least Squares</td>  <th>  F-statistic:       </th> <td>   5553.</td>\n",
              "</tr>\n",
              "<tr>\n",
              "  <th>Date:</th>             <td>Sun, 02 May 2021</td> <th>  Prob (F-statistic):</th> <td>4.20e-88</td>\n",
              "</tr>\n",
              "<tr>\n",
              "  <th>Time:</th>                 <td>21:17:00</td>     <th>  Log-Likelihood:    </th> <td> -98.282</td>\n",
              "</tr>\n",
              "<tr>\n",
              "  <th>No. Observations:</th>      <td>   100</td>      <th>  AIC:               </th> <td>   200.6</td>\n",
              "</tr>\n",
              "<tr>\n",
              "  <th>Df Residuals:</th>          <td>    98</td>      <th>  BIC:               </th> <td>   205.8</td>\n",
              "</tr>\n",
              "<tr>\n",
              "  <th>Df Model:</th>              <td>     1</td>      <th>                     </th>     <td> </td>   \n",
              "</tr>\n",
              "<tr>\n",
              "  <th>Covariance Type:</th>      <td>nonrobust</td>    <th>                     </th>     <td> </td>   \n",
              "</tr>\n",
              "</table>\n",
              "<table class=\"simpletable\">\n",
              "<tr>\n",
              "    <td></td>       <th>coef</th>     <th>std err</th>      <th>t</th>      <th>P>|t|</th>  <th>[0.025</th>    <th>0.975]</th>  \n",
              "</tr>\n",
              "<tr>\n",
              "  <th>const</th> <td>   -2.4149</td> <td>    0.148</td> <td>  -16.353</td> <td> 0.000</td> <td>   -2.708</td> <td>   -2.122</td>\n",
              "</tr>\n",
              "<tr>\n",
              "  <th>X</th>     <td>    3.1325</td> <td>    0.042</td> <td>   74.520</td> <td> 0.000</td> <td>    3.049</td> <td>    3.216</td>\n",
              "</tr>\n",
              "</table>\n",
              "<table class=\"simpletable\">\n",
              "<tr>\n",
              "  <th>Omnibus:</th>       <td> 0.313</td> <th>  Durbin-Watson:     </th> <td>   1.911</td>\n",
              "</tr>\n",
              "<tr>\n",
              "  <th>Prob(Omnibus):</th> <td> 0.855</td> <th>  Jarque-Bera (JB):  </th> <td>   0.486</td>\n",
              "</tr>\n",
              "<tr>\n",
              "  <th>Skew:</th>          <td>-0.023</td> <th>  Prob(JB):          </th> <td>   0.784</td>\n",
              "</tr>\n",
              "<tr>\n",
              "  <th>Kurtosis:</th>      <td> 2.662</td> <th>  Cond. No.          </th> <td>    8.47</td>\n",
              "</tr>\n",
              "</table><br/><br/>Warnings:<br/>[1] Standard Errors assume that the covariance matrix of the errors is correctly specified."
            ],
            "text/plain": [
              "<class 'statsmodels.iolib.summary.Summary'>\n",
              "\"\"\"\n",
              "                            OLS Regression Results                            \n",
              "==============================================================================\n",
              "Dep. Variable:                      y   R-squared:                       0.983\n",
              "Model:                            OLS   Adj. R-squared:                  0.982\n",
              "Method:                 Least Squares   F-statistic:                     5553.\n",
              "Date:                Sun, 02 May 2021   Prob (F-statistic):           4.20e-88\n",
              "Time:                        21:17:00   Log-Likelihood:                -98.282\n",
              "No. Observations:                 100   AIC:                             200.6\n",
              "Df Residuals:                      98   BIC:                             205.8\n",
              "Df Model:                           1                                         \n",
              "Covariance Type:            nonrobust                                         \n",
              "==============================================================================\n",
              "                 coef    std err          t      P>|t|      [0.025      0.975]\n",
              "------------------------------------------------------------------------------\n",
              "const         -2.4149      0.148    -16.353      0.000      -2.708      -2.122\n",
              "X              3.1325      0.042     74.520      0.000       3.049       3.216\n",
              "==============================================================================\n",
              "Omnibus:                        0.313   Durbin-Watson:                   1.911\n",
              "Prob(Omnibus):                  0.855   Jarque-Bera (JB):                0.486\n",
              "Skew:                          -0.023   Prob(JB):                        0.784\n",
              "Kurtosis:                       2.662   Cond. No.                         8.47\n",
              "==============================================================================\n",
              "\n",
              "Warnings:\n",
              "[1] Standard Errors assume that the covariance matrix of the errors is correctly specified.\n",
              "\"\"\""
            ]
          },
          "metadata": {
            "tags": []
          },
          "execution_count": 46
        }
      ]
    },
    {
      "cell_type": "code",
      "metadata": {
        "colab": {
          "base_uri": "https://localhost:8080/",
          "height": 636
        },
        "id": "b41CI4QbiDrk",
        "outputId": "662b481a-e8de-42be-c23e-43e7a74af8d6"
      },
      "source": [
        "sm.graphics.plot_fit(mdl, exog_idx='X');"
      ],
      "execution_count": 47,
      "outputs": [
        {
          "output_type": "display_data",
          "data": {
            "image/png": "[encoded data removed]",
            "text/plain": [
              "<Figure size 864x720 with 1 Axes>"
            ]
          },
          "metadata": {
            "tags": [],
            "needs_background": "light"
          }
        }
      ]
    },
    {
      "cell_type": "code",
      "metadata": {
        "colab": {
          "base_uri": "https://localhost:8080/",
          "height": 596
        },
        "id": "PnUJEmErk_jE",
        "outputId": "4efef423-7d98-4119-a3bb-187c080ba7d6"
      },
      "source": [
        "mdl.resid.hist();"
      ],
      "execution_count": 48,
      "outputs": [
        {
          "output_type": "display_data",
          "data": {
            "image/png": "[encoded data removed]",
            "text/plain": [
              "<Figure size 864x720 with 1 Axes>"
            ]
          },
          "metadata": {
            "tags": [],
            "needs_background": "light"
          }
        }
      ]
    },
    {
      "cell_type": "markdown",
      "metadata": {
        "id": "UZyTRMCPlmMo"
      },
      "source": [
        "The fitted against observed values plots looks ok, while the residual histograms indicates some issues with the normality of the residuals, but nothing too extraordinary. Let us say, for the sake of argument, that everything is fine, that we are interpreting the relationship as a causal one, i.e. X causes y, and that we want to use this new knowledge to control y. Suppose that X=5 is the optimal value to control y, based on our model, we would expect all our values to lie within the following interval:\n",
        "\n"
      ]
    },
    {
      "cell_type": "code",
      "metadata": {
        "colab": {
          "base_uri": "https://localhost:8080/"
        },
        "id": "qu2OvVwtlKaR",
        "outputId": "8a879fc6-61e5-4282-e93b-af20c3d66d4f"
      },
      "source": [
        "def get_pi(mdl, pred_df, alpha=0.05):\n",
        "  predictions = mdl.get_prediction(pred_df)\n",
        "  pred_intervals = predictions.summary_frame(alpha=alpha)[\n",
        "    ['obs_ci_lower', 'obs_ci_upper']\n",
        "  ]\n",
        "\n",
        "  return pred_intervals.iloc[0]\n",
        "  \n",
        "pred_df = sm.add_constant(data['X']).iloc[0]\n",
        "pred_df.X = 5.\n",
        "\n",
        "pred_int_low, pred_int_up = get_pi(mdl, pred_df)\n",
        "pred_int_low, pred_int_up"
      ],
      "execution_count": 52,
      "outputs": [
        {
          "output_type": "execute_result",
          "data": {
            "text/plain": [
              "(11.936056975438753, 14.559322662687315)"
            ]
          },
          "metadata": {
            "tags": []
          },
          "execution_count": 52
        }
      ]
    },
    {
      "cell_type": "markdown",
      "metadata": {
        "id": "-yLwfF_ToqPG"
      },
      "source": [
        "However, when we are sampling the data again, now with forcing X to be 5, we get:"
      ]
    },
    {
      "cell_type": "code",
      "metadata": {
        "id": "qzGLJ7HloymP"
      },
      "source": [
        "data_interv = get_data(X_interv=5.)"
      ],
      "execution_count": 53,
      "outputs": []
    },
    {
      "cell_type": "code",
      "metadata": {
        "colab": {
          "base_uri": "https://localhost:8080/",
          "height": 596
        },
        "id": "dxu2--XToFre",
        "outputId": "52402c65-e91c-435c-8b8d-e26a47ce2227"
      },
      "source": [
        "def plot_obs_and_pi(y, pred_int_low, pred_int_up):\n",
        "  y.hist(legend=True)\n",
        "  ymax = plt.ylim()[1]\n",
        "\n",
        "  plt.axvline(x=pred_int_low, ymin=0, ymax=ymax, color='r', linestyle='--')\n",
        "  plt.axvline(x=pred_int_up, ymin=0, ymax=ymax, color='r', linestyle='--')\n",
        "\n",
        "  plt.annotate(\n",
        "      s='', \n",
        "      xy=(pred_int_low, ymax*0.85), \n",
        "      xytext=(pred_int_up, ymax*0.85),\n",
        "      arrowprops={'arrowstyle': '<->', 'color': 'red'})\n",
        "\n",
        "  plt.text(\n",
        "      x=(pred_int_low + pred_int_up)/2,\n",
        "      y=ymax*0.86,\n",
        "      s='Prediction Interval',\n",
        "      ha='center',\n",
        "      color='red')\n",
        "\n",
        "plot_obs_and_pi(data_interv.y, pred_int_low, pred_int_up)"
      ],
      "execution_count": 54,
      "outputs": [
        {
          "output_type": "display_data",
          "data": {
            "image/png": "[encoded data removed]",
            "text/plain": [
              "<Figure size 864x720 with 1 Axes>"
            ]
          },
          "metadata": {
            "tags": [],
            "needs_background": "light"
          }
        }
      ]
    },
    {
      "cell_type": "markdown",
      "metadata": {
        "id": "OFsvsCG56dmm"
      },
      "source": [
        "This looks horrible. However, you might argue that problem arises from not taking into consideration Z. So let's do try this!"
      ]
    },
    {
      "cell_type": "code",
      "metadata": {
        "colab": {
          "base_uri": "https://localhost:8080/",
          "height": 405
        },
        "id": "qKLjzqQK6cay",
        "outputId": "a41ba67d-7817-4442-d2b9-26741234c70d"
      },
      "source": [
        "mdl = sm.OLS(endog=data.y, exog=sm.add_constant(data[['X', 'Z']])).fit()\n",
        "mdl.summary()"
      ],
      "execution_count": 56,
      "outputs": [
        {
          "output_type": "execute_result",
          "data": {
            "text/html": [
              "<table class=\"simpletable\">\n",
              "<caption>OLS Regression Results</caption>\n",
              "<tr>\n",
              "  <th>Dep. Variable:</th>            <td>y</td>        <th>  R-squared:         </th> <td>   0.998</td> \n",
              "</tr>\n",
              "<tr>\n",
              "  <th>Model:</th>                   <td>OLS</td>       <th>  Adj. R-squared:    </th> <td>   0.998</td> \n",
              "</tr>\n",
              "<tr>\n",
              "  <th>Method:</th>             <td>Least Squares</td>  <th>  F-statistic:       </th> <td>2.296e+04</td>\n",
              "</tr>\n",
              "<tr>\n",
              "  <th>Date:</th>             <td>Sun, 02 May 2021</td> <th>  Prob (F-statistic):</th> <td>1.60e-130</td>\n",
              "</tr>\n",
              "<tr>\n",
              "  <th>Time:</th>                 <td>21:22:08</td>     <th>  Log-Likelihood:    </th> <td>  7.0929</td> \n",
              "</tr>\n",
              "<tr>\n",
              "  <th>No. Observations:</th>      <td>   100</td>      <th>  AIC:               </th> <td>  -8.186</td> \n",
              "</tr>\n",
              "<tr>\n",
              "  <th>Df Residuals:</th>          <td>    97</td>      <th>  BIC:               </th> <td> -0.3703</td> \n",
              "</tr>\n",
              "<tr>\n",
              "  <th>Df Model:</th>              <td>     2</td>      <th>                     </th>     <td> </td>    \n",
              "</tr>\n",
              "<tr>\n",
              "  <th>Covariance Type:</th>      <td>nonrobust</td>    <th>                     </th>     <td> </td>    \n",
              "</tr>\n",
              "</table>\n",
              "<table class=\"simpletable\">\n",
              "<tr>\n",
              "    <td></td>       <th>coef</th>     <th>std err</th>      <th>t</th>      <th>P>|t|</th>  <th>[0.025</th>    <th>0.975]</th>  \n",
              "</tr>\n",
              "<tr>\n",
              "  <th>const</th> <td>    0.9305</td> <td>    0.137</td> <td>    6.815</td> <td> 0.000</td> <td>    0.659</td> <td>    1.201</td>\n",
              "</tr>\n",
              "<tr>\n",
              "  <th>X</th>     <td>    2.0133</td> <td>    0.045</td> <td>   44.979</td> <td> 0.000</td> <td>    1.925</td> <td>    2.102</td>\n",
              "</tr>\n",
              "<tr>\n",
              "  <th>Z</th>     <td>    1.9780</td> <td>    0.075</td> <td>   26.478</td> <td> 0.000</td> <td>    1.830</td> <td>    2.126</td>\n",
              "</tr>\n",
              "</table>\n",
              "<table class=\"simpletable\">\n",
              "<tr>\n",
              "  <th>Omnibus:</th>       <td> 0.366</td> <th>  Durbin-Watson:     </th> <td>   2.297</td>\n",
              "</tr>\n",
              "<tr>\n",
              "  <th>Prob(Omnibus):</th> <td> 0.833</td> <th>  Jarque-Bera (JB):  </th> <td>   0.498</td>\n",
              "</tr>\n",
              "<tr>\n",
              "  <th>Skew:</th>          <td>-0.127</td> <th>  Prob(JB):          </th> <td>   0.780</td>\n",
              "</tr>\n",
              "<tr>\n",
              "  <th>Kurtosis:</th>      <td> 2.765</td> <th>  Cond. No.          </th> <td>    25.5</td>\n",
              "</tr>\n",
              "</table><br/><br/>Warnings:<br/>[1] Standard Errors assume that the covariance matrix of the errors is correctly specified."
            ],
            "text/plain": [
              "<class 'statsmodels.iolib.summary.Summary'>\n",
              "\"\"\"\n",
              "                            OLS Regression Results                            \n",
              "==============================================================================\n",
              "Dep. Variable:                      y   R-squared:                       0.998\n",
              "Model:                            OLS   Adj. R-squared:                  0.998\n",
              "Method:                 Least Squares   F-statistic:                 2.296e+04\n",
              "Date:                Sun, 02 May 2021   Prob (F-statistic):          1.60e-130\n",
              "Time:                        21:22:08   Log-Likelihood:                 7.0929\n",
              "No. Observations:                 100   AIC:                            -8.186\n",
              "Df Residuals:                      97   BIC:                           -0.3703\n",
              "Df Model:                           2                                         \n",
              "Covariance Type:            nonrobust                                         \n",
              "==============================================================================\n",
              "                 coef    std err          t      P>|t|      [0.025      0.975]\n",
              "------------------------------------------------------------------------------\n",
              "const          0.9305      0.137      6.815      0.000       0.659       1.201\n",
              "X              2.0133      0.045     44.979      0.000       1.925       2.102\n",
              "Z              1.9780      0.075     26.478      0.000       1.830       2.126\n",
              "==============================================================================\n",
              "Omnibus:                        0.366   Durbin-Watson:                   2.297\n",
              "Prob(Omnibus):                  0.833   Jarque-Bera (JB):                0.498\n",
              "Skew:                          -0.127   Prob(JB):                        0.780\n",
              "Kurtosis:                       2.765   Cond. No.                         25.5\n",
              "==============================================================================\n",
              "\n",
              "Warnings:\n",
              "[1] Standard Errors assume that the covariance matrix of the errors is correctly specified.\n",
              "\"\"\""
            ]
          },
          "metadata": {
            "tags": []
          },
          "execution_count": 56
        }
      ]
    },
    {
      "cell_type": "markdown",
      "metadata": {
        "id": "-S7aQ28h9nJs"
      },
      "source": [
        "Just by looking at the model coefficients and comparing them to the equation used to generate the observations in the get_data function, we can see that we seem to have recovered the relationship between X and y pretty well. But have we also identified the causal magnitude between the two."
      ]
    },
    {
      "cell_type": "code",
      "metadata": {
        "colab": {
          "base_uri": "https://localhost:8080/",
          "height": 596
        },
        "id": "o8FyEXn0_o5O",
        "outputId": "28d77641-910c-4a51-b2be-a2a482af1599"
      },
      "source": [
        "pred_df = sm.add_constant(data[['X', 'Z']]).iloc[0]\n",
        "pred_df.X = 5.\n",
        "\n",
        "data_interv = get_data(X_interv=5.)\n",
        "\n",
        "pred_int_low, pred_int_up = get_pi(mdl, pred_df)\n",
        "\n",
        "plot_obs_and_pi(data_interv.y, pred_int_low, pred_int_up)"
      ],
      "execution_count": 59,
      "outputs": [
        {
          "output_type": "display_data",
          "data": {
            "image/png": "[encoded data removed]",
            "text/plain": [
              "<Figure size 864x720 with 1 Axes>"
            ]
          },
          "metadata": {
            "tags": [],
            "needs_background": "light"
          }
        }
      ]
    },
    {
      "cell_type": "code",
      "metadata": {
        "colab": {
          "base_uri": "https://localhost:8080/",
          "height": 182
        },
        "id": "2awITzHglsAK",
        "outputId": "ff467990-32a2-4403-e380-3d378cbb9603"
      },
      "source": [
        "dot = Digraph()\n",
        "\n",
        "dot.node('X', peripheries='2')\n",
        "dot.node('Z')\n",
        "dot.node('y')\n",
        "\n",
        "dot.edges(['Xy', 'Zy'])\n",
        "dot.render('XZy_interv', view=True, format='png')\n",
        "Image('XZy_interv.png')"
      ],
      "execution_count": 16,
      "outputs": [
        {
          "output_type": "execute_result",
          "data": {
            "image/png": "[encoded data removed]",
            "text/plain": [
              "<IPython.core.display.Image object>"
            ]
          },
          "metadata": {
            "tags": []
          },
          "execution_count": 16
        }
      ]
    },
    {
      "cell_type": "code",
      "metadata": {
        "colab": {
          "base_uri": "https://localhost:8080/",
          "height": 277
        },
        "id": "VpnAtMDzmRc2",
        "outputId": "1944b964-3b50-4244-e466-f08e590714ac"
      },
      "source": [
        "dot = Digraph()\n",
        "\n",
        "dot.node('X', peripheries='2')\n",
        "dot.node('Z', style='dashed')\n",
        "dot.node('y')\n",
        "\n",
        "dot.edges(['Xy', 'ZX', 'Zy'])\n",
        "dot.render('XZy_relationship', view=True, format='png')\n",
        "Image('XZy_relationship.png')"
      ],
      "execution_count": 17,
      "outputs": [
        {
          "output_type": "execute_result",
          "data": {
            "image/png": "[encoded data removed]",
            "text/plain": [
              "<IPython.core.display.Image object>"
            ]
          },
          "metadata": {
            "tags": []
          },
          "execution_count": 17
        }
      ]
    },
    {
      "cell_type": "markdown",
      "metadata": {
        "id": "voPNd-Bt7qhZ"
      },
      "source": [
        "### Two Important Tools\n",
        "\n",
        "#### Backdoor Criterion\n",
        "\n",
        "#### Frontdoor Criterion"
      ]
    }
  ]
}