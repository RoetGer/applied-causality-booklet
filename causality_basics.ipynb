{
  "nbformat": 4,
  "nbformat_minor": 0,
  "metadata": {
    "colab": {
      "name": "causality_basics.ipynb",
      "provenance": [],
      "collapsed_sections": [],
      "toc_visible": true,
      "authorship_tag": "ABX9TyNfhHuGkliXjxvCDCFGqnUD",
      "include_colab_link": true
    },
    "kernelspec": {
      "name": "python3",
      "display_name": "Python 3"
    },
    "language_info": {
      "name": "python"
    }
  },
  "cells": [
    {
      "cell_type": "markdown",
      "metadata": {
        "id": "view-in-github",
        "colab_type": "text"
      },
      "source": [
        "<a href=\"https://colab.research.google.com/github/RoetGer/applied-causality-booklet/blob/gh-pages/causality_basics.ipynb\" target=\"_parent\"><img src=\"https://colab.research.google.com/assets/colab-badge.svg\" alt=\"Open In Colab\"/></a>"
      ]
    },
    {
      "cell_type": "markdown",
      "metadata": {
        "id": "9k1gdAdPO1rN"
      },
      "source": [
        "# Basics of Causality in Data Science\n",
        "\n",
        "---\n",
        "\n"
      ]
    },
    {
      "cell_type": "code",
      "metadata": {
        "id": "OcnTiSoqOwxc"
      },
      "source": [
        "import matplotlib.pyplot as plt\n",
        "import numpy as np\n",
        "import pandas as pd\n",
        "import statsmodels.api as sm\n",
        "\n",
        "from graphviz import Digraph\n",
        "from IPython.display import Image\n",
        "\n",
        "plt.rc('figure', figsize=(15, 10))\n",
        "plt.rc('font', size=16);"
      ],
      "execution_count": 17,
      "outputs": []
    },
    {
      "cell_type": "markdown",
      "metadata": {
        "id": "sa2TSugsWYWi"
      },
      "source": [
        "## Association vs Causality\n",
        "\n",
        "A first important milestone in understanding on how causality affects us as data scientists is to acknowledge the difference between association and causality. Or to put it more concisely: \"Correlation does not imply causation\".\n",
        "\n",
        "Let's look at some data:"
      ]
    },
    {
      "cell_type": "code",
      "metadata": {
        "colab": {
          "base_uri": "https://localhost:8080/",
          "height": 279
        },
        "id": "eNrxUBlWUyIM",
        "outputId": "470b8cbe-b129-4983-d7cb-c8422bbd2e12"
      },
      "source": [
        "def get_data(effect_size, seed=5):\n",
        "  np.random.seed(seed)\n",
        "\n",
        "  x = np.random.uniform(high=10., size=100)\n",
        "  y = effect_size*x + np.random.normal(size=100)\n",
        "\n",
        "  return pd.DataFrame({\n",
        "      'X': x,\n",
        "      'y': y\n",
        "  })\n",
        "\n",
        "data = get_data(effect_size=3.)\n",
        "data.plot.scatter('X', 'y');"
      ],
      "execution_count": 2,
      "outputs": [
        {
          "output_type": "display_data",
          "data": {
            "image/png": "[encoded data removed]",
            "text/plain": [
              "<Figure size 432x288 with 1 Axes>"
            ]
          },
          "metadata": {
            "tags": [],
            "needs_background": "light"
          }
        }
      ]
    },
    {
      "cell_type": "code",
      "metadata": {
        "colab": {
          "base_uri": "https://localhost:8080/",
          "height": 423
        },
        "id": "8Fge6GD6Z5D2",
        "outputId": "ce9465fa-433a-43e5-9905-bae95316d4e0"
      },
      "source": [
        "mdl = sm.OLS(endog=data.y, exog=data.X).fit()\n",
        "mdl.summary()"
      ],
      "execution_count": 3,
      "outputs": [
        {
          "output_type": "execute_result",
          "data": {
            "text/html": [
              "<table class=\"simpletable\">\n",
              "<caption>OLS Regression Results</caption>\n",
              "<tr>\n",
              "  <th>Dep. Variable:</th>            <td>y</td>        <th>  R-squared (uncentered):</th>      <td>   0.996</td> \n",
              "</tr>\n",
              "<tr>\n",
              "  <th>Model:</th>                   <td>OLS</td>       <th>  Adj. R-squared (uncentered):</th> <td>   0.996</td> \n",
              "</tr>\n",
              "<tr>\n",
              "  <th>Method:</th>             <td>Least Squares</td>  <th>  F-statistic:       </th>          <td>2.770e+04</td>\n",
              "</tr>\n",
              "<tr>\n",
              "  <th>Date:</th>             <td>Fri, 30 Apr 2021</td> <th>  Prob (F-statistic):</th>          <td>5.11e-123</td>\n",
              "</tr>\n",
              "<tr>\n",
              "  <th>Time:</th>                 <td>20:42:32</td>     <th>  Log-Likelihood:    </th>          <td> -145.55</td> \n",
              "</tr>\n",
              "<tr>\n",
              "  <th>No. Observations:</th>      <td>   100</td>      <th>  AIC:               </th>          <td>   293.1</td> \n",
              "</tr>\n",
              "<tr>\n",
              "  <th>Df Residuals:</th>          <td>    99</td>      <th>  BIC:               </th>          <td>   295.7</td> \n",
              "</tr>\n",
              "<tr>\n",
              "  <th>Df Model:</th>              <td>     1</td>      <th>                     </th>              <td> </td>    \n",
              "</tr>\n",
              "<tr>\n",
              "  <th>Covariance Type:</th>      <td>nonrobust</td>    <th>                     </th>              <td> </td>    \n",
              "</tr>\n",
              "</table>\n",
              "<table class=\"simpletable\">\n",
              "<tr>\n",
              "  <td></td>     <th>coef</th>     <th>std err</th>      <th>t</th>      <th>P>|t|</th>  <th>[0.025</th>    <th>0.975]</th>  \n",
              "</tr>\n",
              "<tr>\n",
              "  <th>X</th> <td>    3.0030</td> <td>    0.018</td> <td>  166.431</td> <td> 0.000</td> <td>    2.967</td> <td>    3.039</td>\n",
              "</tr>\n",
              "</table>\n",
              "<table class=\"simpletable\">\n",
              "<tr>\n",
              "  <th>Omnibus:</th>       <td> 0.710</td> <th>  Durbin-Watson:     </th> <td>   1.660</td>\n",
              "</tr>\n",
              "<tr>\n",
              "  <th>Prob(Omnibus):</th> <td> 0.701</td> <th>  Jarque-Bera (JB):  </th> <td>   0.829</td>\n",
              "</tr>\n",
              "<tr>\n",
              "  <th>Skew:</th>          <td> 0.125</td> <th>  Prob(JB):          </th> <td>   0.661</td>\n",
              "</tr>\n",
              "<tr>\n",
              "  <th>Kurtosis:</th>      <td> 2.630</td> <th>  Cond. No.          </th> <td>    1.00</td>\n",
              "</tr>\n",
              "</table><br/><br/>Warnings:<br/>[1] Standard Errors assume that the covariance matrix of the errors is correctly specified."
            ],
            "text/plain": [
              "<class 'statsmodels.iolib.summary.Summary'>\n",
              "\"\"\"\n",
              "                                 OLS Regression Results                                \n",
              "=======================================================================================\n",
              "Dep. Variable:                      y   R-squared (uncentered):                   0.996\n",
              "Model:                            OLS   Adj. R-squared (uncentered):              0.996\n",
              "Method:                 Least Squares   F-statistic:                          2.770e+04\n",
              "Date:                Fri, 30 Apr 2021   Prob (F-statistic):                   5.11e-123\n",
              "Time:                        20:42:32   Log-Likelihood:                         -145.55\n",
              "No. Observations:                 100   AIC:                                      293.1\n",
              "Df Residuals:                      99   BIC:                                      295.7\n",
              "Df Model:                           1                                                  \n",
              "Covariance Type:            nonrobust                                                  \n",
              "==============================================================================\n",
              "                 coef    std err          t      P>|t|      [0.025      0.975]\n",
              "------------------------------------------------------------------------------\n",
              "X              3.0030      0.018    166.431      0.000       2.967       3.039\n",
              "==============================================================================\n",
              "Omnibus:                        0.710   Durbin-Watson:                   1.660\n",
              "Prob(Omnibus):                  0.701   Jarque-Bera (JB):                0.829\n",
              "Skew:                           0.125   Prob(JB):                        0.661\n",
              "Kurtosis:                       2.630   Cond. No.                         1.00\n",
              "==============================================================================\n",
              "\n",
              "Warnings:\n",
              "[1] Standard Errors assume that the covariance matrix of the errors is correctly specified.\n",
              "\"\"\""
            ]
          },
          "metadata": {
            "tags": []
          },
          "execution_count": 3
        }
      ]
    },
    {
      "cell_type": "markdown",
      "metadata": {
        "id": "Xjepb0XLbObd"
      },
      "source": [
        "For the sampled dataset it is easy to recover a relationship between X and y. However, we implicitly assumed that y depends on X, although this was not stated anywhere, we could have also regressed X on y, i.e.:"
      ]
    },
    {
      "cell_type": "code",
      "metadata": {
        "colab": {
          "base_uri": "https://localhost:8080/",
          "height": 423
        },
        "id": "M9Xdp8-_Y_aY",
        "outputId": "92732ec0-158d-494b-c006-11f4a2f8bc5e"
      },
      "source": [
        "mdl = sm.OLS(endog=data.X, exog=data.y).fit()\n",
        "mdl.summary()"
      ],
      "execution_count": 4,
      "outputs": [
        {
          "output_type": "execute_result",
          "data": {
            "text/html": [
              "<table class=\"simpletable\">\n",
              "<caption>OLS Regression Results</caption>\n",
              "<tr>\n",
              "  <th>Dep. Variable:</th>            <td>X</td>        <th>  R-squared (uncentered):</th>      <td>   0.996</td> \n",
              "</tr>\n",
              "<tr>\n",
              "  <th>Model:</th>                   <td>OLS</td>       <th>  Adj. R-squared (uncentered):</th> <td>   0.996</td> \n",
              "</tr>\n",
              "<tr>\n",
              "  <th>Method:</th>             <td>Least Squares</td>  <th>  F-statistic:       </th>          <td>2.770e+04</td>\n",
              "</tr>\n",
              "<tr>\n",
              "  <th>Date:</th>             <td>Fri, 30 Apr 2021</td> <th>  Prob (F-statistic):</th>          <td>5.11e-123</td>\n",
              "</tr>\n",
              "<tr>\n",
              "  <th>Time:</th>                 <td>20:42:32</td>     <th>  Log-Likelihood:    </th>          <td> -35.411</td> \n",
              "</tr>\n",
              "<tr>\n",
              "  <th>No. Observations:</th>      <td>   100</td>      <th>  AIC:               </th>          <td>   72.82</td> \n",
              "</tr>\n",
              "<tr>\n",
              "  <th>Df Residuals:</th>          <td>    99</td>      <th>  BIC:               </th>          <td>   75.43</td> \n",
              "</tr>\n",
              "<tr>\n",
              "  <th>Df Model:</th>              <td>     1</td>      <th>                     </th>              <td> </td>    \n",
              "</tr>\n",
              "<tr>\n",
              "  <th>Covariance Type:</th>      <td>nonrobust</td>    <th>                     </th>              <td> </td>    \n",
              "</tr>\n",
              "</table>\n",
              "<table class=\"simpletable\">\n",
              "<tr>\n",
              "  <td></td>     <th>coef</th>     <th>std err</th>      <th>t</th>      <th>P>|t|</th>  <th>[0.025</th>    <th>0.975]</th>  \n",
              "</tr>\n",
              "<tr>\n",
              "  <th>y</th> <td>    0.3318</td> <td>    0.002</td> <td>  166.431</td> <td> 0.000</td> <td>    0.328</td> <td>    0.336</td>\n",
              "</tr>\n",
              "</table>\n",
              "<table class=\"simpletable\">\n",
              "<tr>\n",
              "  <th>Omnibus:</th>       <td> 0.719</td> <th>  Durbin-Watson:     </th> <td>   1.660</td>\n",
              "</tr>\n",
              "<tr>\n",
              "  <th>Prob(Omnibus):</th> <td> 0.698</td> <th>  Jarque-Bera (JB):  </th> <td>   0.837</td>\n",
              "</tr>\n",
              "<tr>\n",
              "  <th>Skew:</th>          <td>-0.126</td> <th>  Prob(JB):          </th> <td>   0.658</td>\n",
              "</tr>\n",
              "<tr>\n",
              "  <th>Kurtosis:</th>      <td> 2.629</td> <th>  Cond. No.          </th> <td>    1.00</td>\n",
              "</tr>\n",
              "</table><br/><br/>Warnings:<br/>[1] Standard Errors assume that the covariance matrix of the errors is correctly specified."
            ],
            "text/plain": [
              "<class 'statsmodels.iolib.summary.Summary'>\n",
              "\"\"\"\n",
              "                                 OLS Regression Results                                \n",
              "=======================================================================================\n",
              "Dep. Variable:                      X   R-squared (uncentered):                   0.996\n",
              "Model:                            OLS   Adj. R-squared (uncentered):              0.996\n",
              "Method:                 Least Squares   F-statistic:                          2.770e+04\n",
              "Date:                Fri, 30 Apr 2021   Prob (F-statistic):                   5.11e-123\n",
              "Time:                        20:42:32   Log-Likelihood:                         -35.411\n",
              "No. Observations:                 100   AIC:                                      72.82\n",
              "Df Residuals:                      99   BIC:                                      75.43\n",
              "Df Model:                           1                                                  \n",
              "Covariance Type:            nonrobust                                                  \n",
              "==============================================================================\n",
              "                 coef    std err          t      P>|t|      [0.025      0.975]\n",
              "------------------------------------------------------------------------------\n",
              "y              0.3318      0.002    166.431      0.000       0.328       0.336\n",
              "==============================================================================\n",
              "Omnibus:                        0.719   Durbin-Watson:                   1.660\n",
              "Prob(Omnibus):                  0.698   Jarque-Bera (JB):                0.837\n",
              "Skew:                          -0.126   Prob(JB):                        0.658\n",
              "Kurtosis:                       2.629   Cond. No.                         1.00\n",
              "==============================================================================\n",
              "\n",
              "Warnings:\n",
              "[1] Standard Errors assume that the covariance matrix of the errors is correctly specified.\n",
              "\"\"\""
            ]
          },
          "metadata": {
            "tags": []
          },
          "execution_count": 4
        }
      ]
    },
    {
      "cell_type": "markdown",
      "metadata": {
        "id": "GPTjU33sgRYC"
      },
      "source": [
        "Based on the get_data function, the first approach is the correct one (we simply multiply X by 3 and then add some noise). However, the data alone cannot tell us which direction is the proper one. Without any assumptions/knowledge about the underlying causal structure, we can only talk about associations, which in case of the linear regression are basically conditional expectations, i.e. $\\mathbb{E}[Y|X]$ and $\\mathbb{E}[X|Y]$. This gives us the power to answer questions of the nature: \"We have observed X, what do we expect to see for Y\", e.g.:\n",
        "\n",
        "* \"A customer x has an income of 10.000 Euro, what would we expect this customer spends on leisure articles?\"\n",
        "* \"We can see it rain, what is the chance that our driveway is wet?\"\n",
        "* \"An applicant for a personal loan works as a teacher, what is the estimated probability that they will default\"\n",
        "\n",
        "In contrast, causality goes beyond merely observing what is happening and tries to infer the concrete impact of one variable onto another one. This would allow us to make statements about what would happen, if we set a variable to a certain value. In the notation developed by Pearl, we would use the do-operator and write: $\\mathbb{E}[Y|\\text{do}(X)]$ and $\\mathbb{E}[X|\\text{do}(Y)]$ to differentiate this setting from the classical one, where we just infer associative relationships.\n",
        "\n",
        "Some questions we might be interested in and which tend to have a causal twist to them:\n",
        "\n",
        "* \"What was the concrete impact of calling the customer in their decision to purchase the service?\"\n",
        "* \"If we turn on the sprinkler, what is the chance that the driveway gets wet?\"\n",
        "* \"What would the result of my A/B test best, if everyone did what they were supposed to do?\" \n",
        "* \"Which variables do we have to measure in order for us to determine whether an advertisement campaign is worth its money?\"\n",
        "\n",
        "\n"
      ]
    },
    {
      "cell_type": "markdown",
      "metadata": {
        "id": "3tVdm-4F7Yr1"
      },
      "source": [
        "## Basic Building Blocks for Working with Causality"
      ]
    },
    {
      "cell_type": "markdown",
      "metadata": {
        "id": "7km3h23O7qW1"
      },
      "source": [
        "### A Graphical View\n",
        "\n",
        "One of the core takeaways from Pearl's work is that graphs are a great tool to depict and analyse issues of causality.\n",
        "\n",
        "As a first step, we can present how we would depict the problem from the previous sections with graphs"
      ]
    },
    {
      "cell_type": "code",
      "metadata": {
        "colab": {
          "base_uri": "https://localhost:8080/",
          "height": 172
        },
        "id": "6GnXjSjrZP1l",
        "outputId": "cf568b7f-e233-468a-8392-efa8988b1f16"
      },
      "source": [
        "dot = Digraph()\n",
        "\n",
        "dot.node('X')\n",
        "dot.node('y')\n",
        "\n",
        "dot.edges(['Xy'])\n",
        "dot.render('Xy_relationship', view=True, format='png')\n",
        "Image('Xy_relationship.png')"
      ],
      "execution_count": 5,
      "outputs": [
        {
          "output_type": "execute_result",
          "data": {
            "image/png": "[encoded data removed]",
            "text/plain": [
              "<IPython.core.display.Image object>"
            ]
          },
          "metadata": {
            "tags": []
          },
          "execution_count": 5
        }
      ]
    },
    {
      "cell_type": "code",
      "metadata": {
        "colab": {
          "base_uri": "https://localhost:8080/",
          "height": 182
        },
        "id": "R4HLZFp_eouK",
        "outputId": "82950567-b6c4-46e1-c771-4554437c5c5d"
      },
      "source": [
        "dot = Digraph()\n",
        "\n",
        "dot.node('X', peripheries='2')\n",
        "dot.node('y')\n",
        "\n",
        "dot.edges(['Xy'])\n",
        "dot.render('Xy_interv', view=True, format='png')\n",
        "Image('Xy_interv.png')"
      ],
      "execution_count": 6,
      "outputs": [
        {
          "output_type": "execute_result",
          "data": {
            "image/png": "[encoded data removed]",
            "text/plain": [
              "<IPython.core.display.Image object>"
            ]
          },
          "metadata": {
            "tags": []
          },
          "execution_count": 6
        }
      ]
    },
    {
      "cell_type": "code",
      "metadata": {
        "colab": {
          "base_uri": "https://localhost:8080/",
          "height": 268
        },
        "id": "kt7Gq8s8lBi-",
        "outputId": "ea8fe745-4965-427a-e926-05270c50fd74"
      },
      "source": [
        "def get_data(seed=5, X_interv=None):\n",
        "  if seed:\n",
        "    np.random.seed(seed)\n",
        "  \n",
        "  Z = np.random.normal(size=100)\n",
        "  X_noise = np.random.normal(scale=0.5, size=100)\n",
        "  \n",
        "  if not X_interv:\n",
        "    X = 3. + 1.5*Z + X_noise\n",
        "  else:\n",
        "    X = X_interv\n",
        "\n",
        "  y = 1. + 2.*X + 2.*Z + np.random.normal(scale=0.25, size=100)\n",
        "\n",
        "  return pd.DataFrame({\n",
        "      'X': X,\n",
        "      'y': y,\n",
        "      'Z': Z\n",
        "  })\n",
        "\n",
        "data = get_data(5)\n",
        "\n",
        "dot = Digraph()\n",
        "\n",
        "dot.node('X')\n",
        "dot.node('Z')\n",
        "dot.node('y')\n",
        "\n",
        "dot.edges(['Xy', 'ZX', 'Zy'])\n",
        "dot.render('XZy_relationship', view=True, format='png')\n",
        "Image('XZy_relationship.png')"
      ],
      "execution_count": 7,
      "outputs": [
        {
          "output_type": "execute_result",
          "data": {
            "image/png": "[encoded data removed]",
            "text/plain": [
              "<IPython.core.display.Image object>"
            ]
          },
          "metadata": {
            "tags": []
          },
          "execution_count": 7
        }
      ]
    },
    {
      "cell_type": "code",
      "metadata": {
        "colab": {
          "base_uri": "https://localhost:8080/",
          "height": 478
        },
        "id": "l83yNR06na8G",
        "outputId": "c49d674e-1926-42ea-d951-23404509201a"
      },
      "source": [
        "data.plot.scatter('X', 'y')"
      ],
      "execution_count": null,
      "outputs": [
        {
          "output_type": "execute_result",
          "data": {
            "text/plain": [
              "<matplotlib.axes._subplots.AxesSubplot at 0x7f7ede29fa50>"
            ]
          },
          "metadata": {
            "tags": []
          },
          "execution_count": 15
        },
        {
          "output_type": "display_data",
          "data": {
            "image/png": "[encoded data removed]",
            "text/plain": [
              "<Figure size 1080x720 with 1 Axes>"
            ]
          },
          "metadata": {
            "tags": [],
            "needs_background": "light"
          }
        }
      ]
    },
    {
      "cell_type": "code",
      "metadata": {
        "colab": {
          "base_uri": "https://localhost:8080/",
          "height": 478
        },
        "id": "uccr00JuniJM",
        "outputId": "efd2dc0d-ea82-4a90-afdd-0cf0f441114d"
      },
      "source": [
        "data.plot.scatter('Z', 'y')"
      ],
      "execution_count": null,
      "outputs": [
        {
          "output_type": "execute_result",
          "data": {
            "text/plain": [
              "<matplotlib.axes._subplots.AxesSubplot at 0x7f7eddcac610>"
            ]
          },
          "metadata": {
            "tags": []
          },
          "execution_count": 16
        },
        {
          "output_type": "display_data",
          "data": {
            "image/png": "[encoded data removed]",
            "text/plain": [
              "<Figure size 1080x720 with 1 Axes>"
            ]
          },
          "metadata": {
            "tags": [],
            "needs_background": "light"
          }
        }
      ]
    },
    {
      "cell_type": "code",
      "metadata": {
        "colab": {
          "base_uri": "https://localhost:8080/",
          "height": 444
        },
        "id": "pRNzFEMWhZAB",
        "outputId": "63297393-b32f-4f3d-a34b-23989b7dfaa8"
      },
      "source": [
        "mdl = sm.OLS(endog=data.y, exog=sm.add_constant(data.X)).fit()\n",
        "mdl.summary()"
      ],
      "execution_count": 10,
      "outputs": [
        {
          "output_type": "execute_result",
          "data": {
            "text/html": [
              "<table class=\"simpletable\">\n",
              "<caption>OLS Regression Results</caption>\n",
              "<tr>\n",
              "  <th>Dep. Variable:</th>            <td>y</td>        <th>  R-squared:         </th> <td>   0.983</td>\n",
              "</tr>\n",
              "<tr>\n",
              "  <th>Model:</th>                   <td>OLS</td>       <th>  Adj. R-squared:    </th> <td>   0.982</td>\n",
              "</tr>\n",
              "<tr>\n",
              "  <th>Method:</th>             <td>Least Squares</td>  <th>  F-statistic:       </th> <td>   5553.</td>\n",
              "</tr>\n",
              "<tr>\n",
              "  <th>Date:</th>             <td>Fri, 30 Apr 2021</td> <th>  Prob (F-statistic):</th> <td>4.20e-88</td>\n",
              "</tr>\n",
              "<tr>\n",
              "  <th>Time:</th>                 <td>20:45:02</td>     <th>  Log-Likelihood:    </th> <td> -98.282</td>\n",
              "</tr>\n",
              "<tr>\n",
              "  <th>No. Observations:</th>      <td>   100</td>      <th>  AIC:               </th> <td>   200.6</td>\n",
              "</tr>\n",
              "<tr>\n",
              "  <th>Df Residuals:</th>          <td>    98</td>      <th>  BIC:               </th> <td>   205.8</td>\n",
              "</tr>\n",
              "<tr>\n",
              "  <th>Df Model:</th>              <td>     1</td>      <th>                     </th>     <td> </td>   \n",
              "</tr>\n",
              "<tr>\n",
              "  <th>Covariance Type:</th>      <td>nonrobust</td>    <th>                     </th>     <td> </td>   \n",
              "</tr>\n",
              "</table>\n",
              "<table class=\"simpletable\">\n",
              "<tr>\n",
              "    <td></td>       <th>coef</th>     <th>std err</th>      <th>t</th>      <th>P>|t|</th>  <th>[0.025</th>    <th>0.975]</th>  \n",
              "</tr>\n",
              "<tr>\n",
              "  <th>const</th> <td>   -2.4149</td> <td>    0.148</td> <td>  -16.353</td> <td> 0.000</td> <td>   -2.708</td> <td>   -2.122</td>\n",
              "</tr>\n",
              "<tr>\n",
              "  <th>X</th>     <td>    3.1325</td> <td>    0.042</td> <td>   74.520</td> <td> 0.000</td> <td>    3.049</td> <td>    3.216</td>\n",
              "</tr>\n",
              "</table>\n",
              "<table class=\"simpletable\">\n",
              "<tr>\n",
              "  <th>Omnibus:</th>       <td> 0.313</td> <th>  Durbin-Watson:     </th> <td>   1.911</td>\n",
              "</tr>\n",
              "<tr>\n",
              "  <th>Prob(Omnibus):</th> <td> 0.855</td> <th>  Jarque-Bera (JB):  </th> <td>   0.486</td>\n",
              "</tr>\n",
              "<tr>\n",
              "  <th>Skew:</th>          <td>-0.023</td> <th>  Prob(JB):          </th> <td>   0.784</td>\n",
              "</tr>\n",
              "<tr>\n",
              "  <th>Kurtosis:</th>      <td> 2.662</td> <th>  Cond. No.          </th> <td>    8.47</td>\n",
              "</tr>\n",
              "</table><br/><br/>Warnings:<br/>[1] Standard Errors assume that the covariance matrix of the errors is correctly specified."
            ],
            "text/plain": [
              "<class 'statsmodels.iolib.summary.Summary'>\n",
              "\"\"\"\n",
              "                            OLS Regression Results                            \n",
              "==============================================================================\n",
              "Dep. Variable:                      y   R-squared:                       0.983\n",
              "Model:                            OLS   Adj. R-squared:                  0.982\n",
              "Method:                 Least Squares   F-statistic:                     5553.\n",
              "Date:                Fri, 30 Apr 2021   Prob (F-statistic):           4.20e-88\n",
              "Time:                        20:45:02   Log-Likelihood:                -98.282\n",
              "No. Observations:                 100   AIC:                             200.6\n",
              "Df Residuals:                      98   BIC:                             205.8\n",
              "Df Model:                           1                                         \n",
              "Covariance Type:            nonrobust                                         \n",
              "==============================================================================\n",
              "                 coef    std err          t      P>|t|      [0.025      0.975]\n",
              "------------------------------------------------------------------------------\n",
              "const         -2.4149      0.148    -16.353      0.000      -2.708      -2.122\n",
              "X              3.1325      0.042     74.520      0.000       3.049       3.216\n",
              "==============================================================================\n",
              "Omnibus:                        0.313   Durbin-Watson:                   1.911\n",
              "Prob(Omnibus):                  0.855   Jarque-Bera (JB):                0.486\n",
              "Skew:                          -0.023   Prob(JB):                        0.784\n",
              "Kurtosis:                       2.662   Cond. No.                         8.47\n",
              "==============================================================================\n",
              "\n",
              "Warnings:\n",
              "[1] Standard Errors assume that the covariance matrix of the errors is correctly specified.\n",
              "\"\"\""
            ]
          },
          "metadata": {
            "tags": []
          },
          "execution_count": 10
        }
      ]
    },
    {
      "cell_type": "code",
      "metadata": {
        "colab": {
          "base_uri": "https://localhost:8080/",
          "height": 637
        },
        "id": "b41CI4QbiDrk",
        "outputId": "83744e05-c877-414a-bd8f-ec425961b9b1"
      },
      "source": [
        "sm.graphics.plot_fit(mdl, exog_idx='X');"
      ],
      "execution_count": 19,
      "outputs": [
        {
          "output_type": "display_data",
          "data": {
            "image/png": "[encoded data removed]",
            "text/plain": [
              "<Figure size 1080x720 with 1 Axes>"
            ]
          },
          "metadata": {
            "tags": [],
            "needs_background": "light"
          }
        }
      ]
    },
    {
      "cell_type": "code",
      "metadata": {
        "colab": {
          "base_uri": "https://localhost:8080/",
          "height": 614
        },
        "id": "PnUJEmErk_jE",
        "outputId": "4ca331be-10fa-4124-d00d-9c512f279b5e"
      },
      "source": [
        "mdl.resid.hist()"
      ],
      "execution_count": 20,
      "outputs": [
        {
          "output_type": "execute_result",
          "data": {
            "text/plain": [
              "<matplotlib.axes._subplots.AxesSubplot at 0x7fc5a018add0>"
            ]
          },
          "metadata": {
            "tags": []
          },
          "execution_count": 20
        },
        {
          "output_type": "display_data",
          "data": {
            "image/png": "[encoded data removed]",
            "text/plain": [
              "<Figure size 1080x720 with 1 Axes>"
            ]
          },
          "metadata": {
            "tags": [],
            "needs_background": "light"
          }
        }
      ]
    },
    {
      "cell_type": "markdown",
      "metadata": {
        "id": "UZyTRMCPlmMo"
      },
      "source": [
        "The fitted against observed values plots looks ok, while the residual histograms indicates some issues with the normality of the residuals, but nothing too extraordinary. Let us say, for the sake of argument, that everything is fine, that we are interpreting the relationship as a causal one, i.e. X causes y, and that we want to use this new knowledge to control y. Suppose that X=5 is the optimal value to control y, based on our model, we would expect all our values to lie within the following interval:\n",
        "\n"
      ]
    },
    {
      "cell_type": "code",
      "metadata": {
        "colab": {
          "base_uri": "https://localhost:8080/"
        },
        "id": "89Pbw1y0nN2l",
        "outputId": "cdbc93b7-5a49-4069-9aed-ddf45fa26614"
      },
      "source": [
        ""
      ],
      "execution_count": 22,
      "outputs": [
        {
          "output_type": "execute_result",
          "data": {
            "text/plain": [
              "const    1.0\n",
              "X        5.0\n",
              "Name: 0, dtype: float64"
            ]
          },
          "metadata": {
            "tags": []
          },
          "execution_count": 22
        }
      ]
    },
    {
      "cell_type": "code",
      "metadata": {
        "colab": {
          "base_uri": "https://localhost:8080/"
        },
        "id": "qu2OvVwtlKaR",
        "outputId": "b00c85ad-ec10-49ee-a571-1b26fa9f598a"
      },
      "source": [
        "pred_df = sm.add_constant(data.X).iloc[0]\n",
        "pred_df.X = 5.\n",
        "\n",
        "predictions = mdl.get_prediction(pred_df)\n",
        "pred_intervals = predictions.summary_frame(alpha=0.05)[['obs_ci_lower', 'obs_ci_upper']]\n",
        "pred_int_low, pred_int_up = pred_intervals.iloc[0]\n",
        "pred_int_low, pred_int_up"
      ],
      "execution_count": 41,
      "outputs": [
        {
          "output_type": "execute_result",
          "data": {
            "text/plain": [
              "(11.936056975438753, 14.559322662687315)"
            ]
          },
          "metadata": {
            "tags": []
          },
          "execution_count": 41
        }
      ]
    },
    {
      "cell_type": "markdown",
      "metadata": {
        "id": "-yLwfF_ToqPG"
      },
      "source": [
        "However, when we are sampling the data again, now with forcing X to be 5, we get:"
      ]
    },
    {
      "cell_type": "code",
      "metadata": {
        "id": "qzGLJ7HloymP"
      },
      "source": [
        "data_interv = get_data(X_interv=5.)"
      ],
      "execution_count": 35,
      "outputs": []
    },
    {
      "cell_type": "code",
      "metadata": {
        "colab": {
          "base_uri": "https://localhost:8080/",
          "height": 597
        },
        "id": "dxu2--XToFre",
        "outputId": "d7129a1f-dc8a-4bca-86cc-2c1dfd0b9bf6"
      },
      "source": [
        "data_interv.y.hist(legend=True)\n",
        "ymax = plt.ylim()[1]\n",
        "plt.axvline(x=pred_int_low, ymin=0, ymax=ymax, color='r', linestyle='--')\n",
        "plt.axvline(x=pred_int_up, ymin=0, ymax=ymax, color='r', linestyle='--')\n",
        "plt.annotate(\n",
        "    s='', \n",
        "    xy=(pred_int_low, ymax*0.85), \n",
        "    xytext=(pred_int_up, ymax*0.85),\n",
        "    arrowprops={'arrowstyle': '<->', 'color': 'red'})\n",
        "plt.text(\n",
        "    x=(pred_int_low + pred_int_up)/2,\n",
        "    y=ymax*0.86,\n",
        "    s='Prediction Interval',\n",
        "    ha='center',\n",
        "    color='red');"
      ],
      "execution_count": 63,
      "outputs": [
        {
          "output_type": "display_data",
          "data": {
            "image/png": "[encoded data removed]",
            "text/plain": [
              "<Figure size 1080x720 with 1 Axes>"
            ]
          },
          "metadata": {
            "tags": [],
            "needs_background": "light"
          }
        }
      ]
    },
    {
      "cell_type": "code",
      "metadata": {
        "colab": {
          "base_uri": "https://localhost:8080/",
          "height": 182
        },
        "id": "2awITzHglsAK",
        "outputId": "c3f9c030-6019-4b31-a18c-d86b25664fe3"
      },
      "source": [
        "dot = Digraph()\n",
        "\n",
        "dot.node('X', peripheries='2')\n",
        "dot.node('Z')\n",
        "dot.node('y')\n",
        "\n",
        "dot.edges(['Xy', 'Zy'])\n",
        "dot.render('XZy_interv', view=True, format='png')\n",
        "Image('XZy_interv.png')"
      ],
      "execution_count": null,
      "outputs": [
        {
          "output_type": "execute_result",
          "data": {
            "image/png": "[encoded data removed]",
            "text/plain": [
              "<IPython.core.display.Image object>"
            ]
          },
          "metadata": {
            "tags": []
          },
          "execution_count": 11
        }
      ]
    },
    {
      "cell_type": "code",
      "metadata": {
        "colab": {
          "base_uri": "https://localhost:8080/",
          "height": 278
        },
        "id": "VpnAtMDzmRc2",
        "outputId": "0faf5640-49fd-439e-ed18-a7a24049d5fe"
      },
      "source": [
        "dot = Digraph()\n",
        "\n",
        "dot.node('X', peripheries='2')\n",
        "dot.node('Z', style='dashed')\n",
        "dot.node('y')\n",
        "\n",
        "dot.edges(['Xy', 'ZX', 'Zy'])\n",
        "dot.render('XZy_relationship', view=True, format='png')\n",
        "Image('XZy_relationship.png')"
      ],
      "execution_count": null,
      "outputs": [
        {
          "output_type": "execute_result",
          "data": {
            "image/png": "[encoded data removed]",
            "text/plain": [
              "<IPython.core.display.Image object>"
            ]
          },
          "metadata": {
            "tags": []
          },
          "execution_count": 13
        }
      ]
    },
    {
      "cell_type": "markdown",
      "metadata": {
        "id": "voPNd-Bt7qhZ"
      },
      "source": [
        "### Two Important Tools\n",
        "\n",
        "#### Backdoor Criterion\n",
        "\n",
        "#### Frontdoor Criterion"
      ]
    }
  ]
}