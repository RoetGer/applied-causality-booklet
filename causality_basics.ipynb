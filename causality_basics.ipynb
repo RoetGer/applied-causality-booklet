{
  "nbformat": 4,
  "nbformat_minor": 0,
  "metadata": {
    "colab": {
      "name": "causality_basics.ipynb",
      "provenance": [],
      "collapsed_sections": [],
      "toc_visible": true,
      "authorship_tag": "ABX9TyNpARxAYUi842McIoXCyHD3",
      "include_colab_link": true
    },
    "kernelspec": {
      "name": "python3",
      "display_name": "Python 3"
    },
    "language_info": {
      "name": "python"
    }
  },
  "cells": [
    {
      "cell_type": "markdown",
      "metadata": {
        "id": "view-in-github",
        "colab_type": "text"
      },
      "source": [
        "<a href=\"https://colab.research.google.com/github/RoetGer/applied-causality-booklet/blob/main/causality_basics.ipynb\" target=\"_parent\"><img src=\"https://colab.research.google.com/assets/colab-badge.svg\" alt=\"Open In Colab\"/></a>"
      ]
    },
    {
      "cell_type": "markdown",
      "metadata": {
        "id": "9k1gdAdPO1rN"
      },
      "source": [
        "# Basics of Causality in Data Science\n",
        "\n",
        "---\n",
        "\n"
      ]
    },
    {
      "cell_type": "code",
      "metadata": {
        "id": "OcnTiSoqOwxc"
      },
      "source": [
        "import matplotlib.pyplot as plt\n",
        "import numpy as np\n",
        "import pandas as pd\n",
        "import statsmodels.api as sm\n",
        "\n",
        "from graphviz import Digraph\n",
        "from IPython.display import Image\n",
        "\n",
        "plt.rc('figure', figsize=(15, 10))\n",
        "plt.rc('font', size=16);"
      ],
      "execution_count": 2,
      "outputs": []
    },
    {
      "cell_type": "markdown",
      "metadata": {
        "id": "sa2TSugsWYWi"
      },
      "source": [
        "## Association vs Causality\n",
        "\n",
        "A first important milestone in understanding on how causality affects us as data scientists is to acknowledge the difference between association and causality. Or to put it more concisely: \"Correlation does not imply causation\".\n",
        "\n",
        "Let's look at some data:"
      ]
    },
    {
      "cell_type": "code",
      "metadata": {
        "colab": {
          "base_uri": "https://localhost:8080/",
          "height": 462
        },
        "id": "eNrxUBlWUyIM",
        "outputId": "bc99e49a-fb9e-482e-ec33-4078986a70ee"
      },
      "source": [
        "def get_data(effect_size, seed=5):\n",
        "  np.random.seed(seed)\n",
        "\n",
        "  x = np.random.uniform(high=10., size=100)\n",
        "  y = effect_size*x + np.random.normal(size=100)\n",
        "\n",
        "  return pd.DataFrame({\n",
        "      'X': x,\n",
        "      'y': y\n",
        "  })\n",
        "\n",
        "data = get_data(effect_size=3.)\n",
        "data.plot.scatter('X', 'y');"
      ],
      "execution_count": 3,
      "outputs": [
        {
          "output_type": "display_data",
          "data": {
            "image/png": "[encoded data removed]",
            "text/plain": [
              "<Figure size 1080x720 with 1 Axes>"
            ]
          },
          "metadata": {
            "tags": [],
            "needs_background": "light"
          }
        }
      ]
    },
    {
      "cell_type": "code",
      "metadata": {
        "colab": {
          "base_uri": "https://localhost:8080/",
          "height": 423
        },
        "id": "8Fge6GD6Z5D2",
        "outputId": "e390ff77-4bf1-4955-abcb-2527e314c109"
      },
      "source": [
        "mdl = sm.OLS(endog=data.y, exog=data.X).fit()\n",
        "mdl.summary()"
      ],
      "execution_count": 4,
      "outputs": [
        {
          "output_type": "execute_result",
          "data": {
            "text/html": [
              "<table class=\"simpletable\">\n",
              "<caption>OLS Regression Results</caption>\n",
              "<tr>\n",
              "  <th>Dep. Variable:</th>            <td>y</td>        <th>  R-squared (uncentered):</th>      <td>   0.996</td> \n",
              "</tr>\n",
              "<tr>\n",
              "  <th>Model:</th>                   <td>OLS</td>       <th>  Adj. R-squared (uncentered):</th> <td>   0.996</td> \n",
              "</tr>\n",
              "<tr>\n",
              "  <th>Method:</th>             <td>Least Squares</td>  <th>  F-statistic:       </th>          <td>2.770e+04</td>\n",
              "</tr>\n",
              "<tr>\n",
              "  <th>Date:</th>             <td>Wed, 28 Apr 2021</td> <th>  Prob (F-statistic):</th>          <td>5.11e-123</td>\n",
              "</tr>\n",
              "<tr>\n",
              "  <th>Time:</th>                 <td>21:30:54</td>     <th>  Log-Likelihood:    </th>          <td> -145.55</td> \n",
              "</tr>\n",
              "<tr>\n",
              "  <th>No. Observations:</th>      <td>   100</td>      <th>  AIC:               </th>          <td>   293.1</td> \n",
              "</tr>\n",
              "<tr>\n",
              "  <th>Df Residuals:</th>          <td>    99</td>      <th>  BIC:               </th>          <td>   295.7</td> \n",
              "</tr>\n",
              "<tr>\n",
              "  <th>Df Model:</th>              <td>     1</td>      <th>                     </th>              <td> </td>    \n",
              "</tr>\n",
              "<tr>\n",
              "  <th>Covariance Type:</th>      <td>nonrobust</td>    <th>                     </th>              <td> </td>    \n",
              "</tr>\n",
              "</table>\n",
              "<table class=\"simpletable\">\n",
              "<tr>\n",
              "  <td></td>     <th>coef</th>     <th>std err</th>      <th>t</th>      <th>P>|t|</th>  <th>[0.025</th>    <th>0.975]</th>  \n",
              "</tr>\n",
              "<tr>\n",
              "  <th>X</th> <td>    3.0030</td> <td>    0.018</td> <td>  166.431</td> <td> 0.000</td> <td>    2.967</td> <td>    3.039</td>\n",
              "</tr>\n",
              "</table>\n",
              "<table class=\"simpletable\">\n",
              "<tr>\n",
              "  <th>Omnibus:</th>       <td> 0.710</td> <th>  Durbin-Watson:     </th> <td>   1.660</td>\n",
              "</tr>\n",
              "<tr>\n",
              "  <th>Prob(Omnibus):</th> <td> 0.701</td> <th>  Jarque-Bera (JB):  </th> <td>   0.829</td>\n",
              "</tr>\n",
              "<tr>\n",
              "  <th>Skew:</th>          <td> 0.125</td> <th>  Prob(JB):          </th> <td>   0.661</td>\n",
              "</tr>\n",
              "<tr>\n",
              "  <th>Kurtosis:</th>      <td> 2.630</td> <th>  Cond. No.          </th> <td>    1.00</td>\n",
              "</tr>\n",
              "</table><br/><br/>Warnings:<br/>[1] Standard Errors assume that the covariance matrix of the errors is correctly specified."
            ],
            "text/plain": [
              "<class 'statsmodels.iolib.summary.Summary'>\n",
              "\"\"\"\n",
              "                                 OLS Regression Results                                \n",
              "=======================================================================================\n",
              "Dep. Variable:                      y   R-squared (uncentered):                   0.996\n",
              "Model:                            OLS   Adj. R-squared (uncentered):              0.996\n",
              "Method:                 Least Squares   F-statistic:                          2.770e+04\n",
              "Date:                Wed, 28 Apr 2021   Prob (F-statistic):                   5.11e-123\n",
              "Time:                        21:30:54   Log-Likelihood:                         -145.55\n",
              "No. Observations:                 100   AIC:                                      293.1\n",
              "Df Residuals:                      99   BIC:                                      295.7\n",
              "Df Model:                           1                                                  \n",
              "Covariance Type:            nonrobust                                                  \n",
              "==============================================================================\n",
              "                 coef    std err          t      P>|t|      [0.025      0.975]\n",
              "------------------------------------------------------------------------------\n",
              "X              3.0030      0.018    166.431      0.000       2.967       3.039\n",
              "==============================================================================\n",
              "Omnibus:                        0.710   Durbin-Watson:                   1.660\n",
              "Prob(Omnibus):                  0.701   Jarque-Bera (JB):                0.829\n",
              "Skew:                           0.125   Prob(JB):                        0.661\n",
              "Kurtosis:                       2.630   Cond. No.                         1.00\n",
              "==============================================================================\n",
              "\n",
              "Warnings:\n",
              "[1] Standard Errors assume that the covariance matrix of the errors is correctly specified.\n",
              "\"\"\""
            ]
          },
          "metadata": {
            "tags": []
          },
          "execution_count": 4
        }
      ]
    },
    {
      "cell_type": "markdown",
      "metadata": {
        "id": "Xjepb0XLbObd"
      },
      "source": [
        "For the sampled dataset it is easy to recover a relationship between X and y. However, we implicitly assumed that y depends on X, although this was not stated anywhere, we could have also regressed X on y, i.e.:"
      ]
    },
    {
      "cell_type": "code",
      "metadata": {
        "colab": {
          "base_uri": "https://localhost:8080/",
          "height": 423
        },
        "id": "M9Xdp8-_Y_aY",
        "outputId": "3c10cae2-6b40-4481-c99e-4a62edf09bbf"
      },
      "source": [
        "mdl = sm.OLS(endog=data.X, exog=data.y).fit()\n",
        "mdl.summary()"
      ],
      "execution_count": 5,
      "outputs": [
        {
          "output_type": "execute_result",
          "data": {
            "text/html": [
              "<table class=\"simpletable\">\n",
              "<caption>OLS Regression Results</caption>\n",
              "<tr>\n",
              "  <th>Dep. Variable:</th>            <td>X</td>        <th>  R-squared (uncentered):</th>      <td>   0.996</td> \n",
              "</tr>\n",
              "<tr>\n",
              "  <th>Model:</th>                   <td>OLS</td>       <th>  Adj. R-squared (uncentered):</th> <td>   0.996</td> \n",
              "</tr>\n",
              "<tr>\n",
              "  <th>Method:</th>             <td>Least Squares</td>  <th>  F-statistic:       </th>          <td>2.770e+04</td>\n",
              "</tr>\n",
              "<tr>\n",
              "  <th>Date:</th>             <td>Wed, 28 Apr 2021</td> <th>  Prob (F-statistic):</th>          <td>5.11e-123</td>\n",
              "</tr>\n",
              "<tr>\n",
              "  <th>Time:</th>                 <td>21:30:56</td>     <th>  Log-Likelihood:    </th>          <td> -35.411</td> \n",
              "</tr>\n",
              "<tr>\n",
              "  <th>No. Observations:</th>      <td>   100</td>      <th>  AIC:               </th>          <td>   72.82</td> \n",
              "</tr>\n",
              "<tr>\n",
              "  <th>Df Residuals:</th>          <td>    99</td>      <th>  BIC:               </th>          <td>   75.43</td> \n",
              "</tr>\n",
              "<tr>\n",
              "  <th>Df Model:</th>              <td>     1</td>      <th>                     </th>              <td> </td>    \n",
              "</tr>\n",
              "<tr>\n",
              "  <th>Covariance Type:</th>      <td>nonrobust</td>    <th>                     </th>              <td> </td>    \n",
              "</tr>\n",
              "</table>\n",
              "<table class=\"simpletable\">\n",
              "<tr>\n",
              "  <td></td>     <th>coef</th>     <th>std err</th>      <th>t</th>      <th>P>|t|</th>  <th>[0.025</th>    <th>0.975]</th>  \n",
              "</tr>\n",
              "<tr>\n",
              "  <th>y</th> <td>    0.3318</td> <td>    0.002</td> <td>  166.431</td> <td> 0.000</td> <td>    0.328</td> <td>    0.336</td>\n",
              "</tr>\n",
              "</table>\n",
              "<table class=\"simpletable\">\n",
              "<tr>\n",
              "  <th>Omnibus:</th>       <td> 0.719</td> <th>  Durbin-Watson:     </th> <td>   1.660</td>\n",
              "</tr>\n",
              "<tr>\n",
              "  <th>Prob(Omnibus):</th> <td> 0.698</td> <th>  Jarque-Bera (JB):  </th> <td>   0.837</td>\n",
              "</tr>\n",
              "<tr>\n",
              "  <th>Skew:</th>          <td>-0.126</td> <th>  Prob(JB):          </th> <td>   0.658</td>\n",
              "</tr>\n",
              "<tr>\n",
              "  <th>Kurtosis:</th>      <td> 2.629</td> <th>  Cond. No.          </th> <td>    1.00</td>\n",
              "</tr>\n",
              "</table><br/><br/>Warnings:<br/>[1] Standard Errors assume that the covariance matrix of the errors is correctly specified."
            ],
            "text/plain": [
              "<class 'statsmodels.iolib.summary.Summary'>\n",
              "\"\"\"\n",
              "                                 OLS Regression Results                                \n",
              "=======================================================================================\n",
              "Dep. Variable:                      X   R-squared (uncentered):                   0.996\n",
              "Model:                            OLS   Adj. R-squared (uncentered):              0.996\n",
              "Method:                 Least Squares   F-statistic:                          2.770e+04\n",
              "Date:                Wed, 28 Apr 2021   Prob (F-statistic):                   5.11e-123\n",
              "Time:                        21:30:56   Log-Likelihood:                         -35.411\n",
              "No. Observations:                 100   AIC:                                      72.82\n",
              "Df Residuals:                      99   BIC:                                      75.43\n",
              "Df Model:                           1                                                  \n",
              "Covariance Type:            nonrobust                                                  \n",
              "==============================================================================\n",
              "                 coef    std err          t      P>|t|      [0.025      0.975]\n",
              "------------------------------------------------------------------------------\n",
              "y              0.3318      0.002    166.431      0.000       0.328       0.336\n",
              "==============================================================================\n",
              "Omnibus:                        0.719   Durbin-Watson:                   1.660\n",
              "Prob(Omnibus):                  0.698   Jarque-Bera (JB):                0.837\n",
              "Skew:                          -0.126   Prob(JB):                        0.658\n",
              "Kurtosis:                       2.629   Cond. No.                         1.00\n",
              "==============================================================================\n",
              "\n",
              "Warnings:\n",
              "[1] Standard Errors assume that the covariance matrix of the errors is correctly specified.\n",
              "\"\"\""
            ]
          },
          "metadata": {
            "tags": []
          },
          "execution_count": 5
        }
      ]
    },
    {
      "cell_type": "markdown",
      "metadata": {
        "id": "GPTjU33sgRYC"
      },
      "source": [
        "Based on the get_data function, the first approach is the correct one (we simply multiply X by 3 and then add some noise). However, the data alone cannot tell us which direction is the proper one. Without any assumptions/knowledge about the underlying causal structure, we can only talk about associations, which in case of the linear regression are basically conditional expectations, i.e. $\\mathbb{E}[Y|X]$ and $\\mathbb{E}[X|Y]$. This gives us the power to answer questions of the nature: \"We have observed X, what do we expect to see for Y\", e.g.:\n",
        "\n",
        "* \"A customer x has an income of 10.000 Euro, what would we expect this customer spends on leisure articles?\"\n",
        "* \"We can see it rain, what is the chance that our driveway is wet?\"\n",
        "* \"An applicant for a personal loan works as a teacher, what is the estimated probability that they will default\"\n",
        "\n",
        "In contrast, causality goes beyond merely observing what is happening and tries to infer the concrete impact of one variable onto another one. This would allow us to make statements about what would happen, if we set a variable to a certain value. In the notation developed by Pearl, we would use the do-operator and write: $\\mathbb{E}[Y|\\text{do}(X)]$ and $\\mathbb{E}[X|\\text{do}(Y)]$ to differentiate this setting from the classical one, where we just infer associative relationships.\n",
        "\n",
        "Some questions we might be interested in and which tend to have a causal twist to them:\n",
        "\n",
        "* \"What was the concrete impact of calling the customer in their decision to purchase the service?\"\n",
        "* \"If we turn on the sprinkler, what is the chance that the driveway gets wet?\"\n",
        "* \"What would the result of my A/B test best, if everyone did what they were supposed to do?\" \n",
        "* \"Which variables do we have to measure in order for us to determine whether an advertisement campaign is worth its money?\"\n",
        "\n",
        "\n"
      ]
    },
    {
      "cell_type": "markdown",
      "metadata": {
        "id": "3tVdm-4F7Yr1"
      },
      "source": [
        "## Basic Building Blocks for Working with Causality"
      ]
    },
    {
      "cell_type": "markdown",
      "metadata": {
        "id": "7km3h23O7qW1"
      },
      "source": [
        "### A Graphical View\n",
        "\n",
        "One of the core takeaways from Pearl's work is that graphs are a great tool to depict and analyse issues of causality.\n",
        "\n",
        "As a first step, we can present how we would depict the problem from the previous sections with graphs"
      ]
    },
    {
      "cell_type": "code",
      "metadata": {
        "colab": {
          "base_uri": "https://localhost:8080/",
          "height": 172
        },
        "id": "6GnXjSjrZP1l",
        "outputId": "34bb8dee-4f0a-49a3-ae6d-fca072348594"
      },
      "source": [
        "dot = Digraph()\n",
        "\n",
        "dot.node('X')\n",
        "dot.node('y')\n",
        "\n",
        "dot.edges(['Xy'])\n",
        "dot.render('Xy_relationship', view=True, format='png')\n",
        "Image('Xy_relationship.png')"
      ],
      "execution_count": 4,
      "outputs": [
        {
          "output_type": "execute_result",
          "data": {
            "image/png": "[encoded data removed]",
            "text/plain": [
              "<IPython.core.display.Image object>"
            ]
          },
          "metadata": {
            "tags": []
          },
          "execution_count": 4
        }
      ]
    },
    {
      "cell_type": "code",
      "metadata": {
        "colab": {
          "base_uri": "https://localhost:8080/",
          "height": 182
        },
        "id": "R4HLZFp_eouK",
        "outputId": "4f941ada-5658-446a-a438-c539060bdf3b"
      },
      "source": [
        "dot = Digraph()\n",
        "\n",
        "dot.node('X', peripheries='2')\n",
        "dot.node('y')\n",
        "\n",
        "dot.edges(['Xy'])\n",
        "dot.render('Xy_interv', view=True, format='png')\n",
        "Image('Xy_interv.png')"
      ],
      "execution_count": 5,
      "outputs": [
        {
          "output_type": "execute_result",
          "data": {
            "image/png": "[encoded data removed]",
            "text/plain": [
              "<IPython.core.display.Image object>"
            ]
          },
          "metadata": {
            "tags": []
          },
          "execution_count": 5
        }
      ]
    },
    {
      "cell_type": "code",
      "metadata": {
        "colab": {
          "base_uri": "https://localhost:8080/",
          "height": 268
        },
        "id": "kt7Gq8s8lBi-",
        "outputId": "1fa7b6c2-c6a4-4840-f465-110cc332adb3"
      },
      "source": [
        "def get_data(seed=5, X_interv=None):\n",
        "  if seed:\n",
        "    np.random.seed(seed)\n",
        "  \n",
        "  Z = np.random.normal(size=100)\n",
        "  X_noise = np.random.normal(scale=0.5, size=100)\n",
        "  \n",
        "  if not X_interv:\n",
        "    X = 3. + 1.5*Z + X_noise\n",
        "  else:\n",
        "    X = X_interv\n",
        "\n",
        "  y = 1. + 2.*X + 2.*Z + np.random.normal(scale=0.25, size=100)\n",
        "\n",
        "  return pd.DataFrame({\n",
        "      'X': X,\n",
        "      'y': y,\n",
        "      'Z': Z\n",
        "  })\n",
        "\n",
        "data = get_data(5)\n",
        "\n",
        "dot = Digraph()\n",
        "\n",
        "dot.node('X')\n",
        "dot.node('Z')\n",
        "dot.node('y')\n",
        "\n",
        "dot.edges(['Xy', 'ZX', 'Zy'])\n",
        "dot.render('XZy_relationship', view=True, format='png')\n",
        "Image('XZy_relationship.png')"
      ],
      "execution_count": 18,
      "outputs": [
        {
          "output_type": "execute_result",
          "data": {
            "image/png": "[encoded data removed]",
            "text/plain": [
              "<IPython.core.display.Image object>"
            ]
          },
          "metadata": {
            "tags": []
          },
          "execution_count": 18
        }
      ]
    },
    {
      "cell_type": "code",
      "metadata": {
        "colab": {
          "base_uri": "https://localhost:8080/",
          "height": 478
        },
        "id": "l83yNR06na8G",
        "outputId": "c49d674e-1926-42ea-d951-23404509201a"
      },
      "source": [
        "data.plot.scatter('X', 'y')"
      ],
      "execution_count": 15,
      "outputs": [
        {
          "output_type": "execute_result",
          "data": {
            "text/plain": [
              "<matplotlib.axes._subplots.AxesSubplot at 0x7f7ede29fa50>"
            ]
          },
          "metadata": {
            "tags": []
          },
          "execution_count": 15
        },
        {
          "output_type": "display_data",
          "data": {
            "image/png": "[encoded data removed]",
            "text/plain": [
              "<Figure size 1080x720 with 1 Axes>"
            ]
          },
          "metadata": {
            "tags": [],
            "needs_background": "light"
          }
        }
      ]
    },
    {
      "cell_type": "code",
      "metadata": {
        "colab": {
          "base_uri": "https://localhost:8080/",
          "height": 478
        },
        "id": "uccr00JuniJM",
        "outputId": "efd2dc0d-ea82-4a90-afdd-0cf0f441114d"
      },
      "source": [
        "data.plot.scatter('Z', 'y')"
      ],
      "execution_count": 16,
      "outputs": [
        {
          "output_type": "execute_result",
          "data": {
            "text/plain": [
              "<matplotlib.axes._subplots.AxesSubplot at 0x7f7eddcac610>"
            ]
          },
          "metadata": {
            "tags": []
          },
          "execution_count": 16
        },
        {
          "output_type": "display_data",
          "data": {
            "image/png": "[encoded data removed]",
            "text/plain": [
              "<Figure size 1080x720 with 1 Axes>"
            ]
          },
          "metadata": {
            "tags": [],
            "needs_background": "light"
          }
        }
      ]
    },
    {
      "cell_type": "code",
      "metadata": {
        "colab": {
          "base_uri": "https://localhost:8080/",
          "height": 182
        },
        "id": "2awITzHglsAK",
        "outputId": "c3f9c030-6019-4b31-a18c-d86b25664fe3"
      },
      "source": [
        "dot = Digraph()\n",
        "\n",
        "dot.node('X', peripheries='2')\n",
        "dot.node('Z')\n",
        "dot.node('y')\n",
        "\n",
        "dot.edges(['Xy', 'Zy'])\n",
        "dot.render('XZy_interv', view=True, format='png')\n",
        "Image('XZy_interv.png')"
      ],
      "execution_count": 11,
      "outputs": [
        {
          "output_type": "execute_result",
          "data": {
            "image/png": "[encoded data removed]",
            "text/plain": [
              "<IPython.core.display.Image object>"
            ]
          },
          "metadata": {
            "tags": []
          },
          "execution_count": 11
        }
      ]
    },
    {
      "cell_type": "code",
      "metadata": {
        "colab": {
          "base_uri": "https://localhost:8080/",
          "height": 278
        },
        "id": "VpnAtMDzmRc2",
        "outputId": "0faf5640-49fd-439e-ed18-a7a24049d5fe"
      },
      "source": [
        "dot = Digraph()\n",
        "\n",
        "dot.node('X', peripheries='2')\n",
        "dot.node('Z', style='dashed')\n",
        "dot.node('y')\n",
        "\n",
        "dot.edges(['Xy', 'ZX', 'Zy'])\n",
        "dot.render('XZy_relationship', view=True, format='png')\n",
        "Image('XZy_relationship.png')"
      ],
      "execution_count": 13,
      "outputs": [
        {
          "output_type": "execute_result",
          "data": {
            "image/png": "[encoded data removed]",
            "text/plain": [
              "<IPython.core.display.Image object>"
            ]
          },
          "metadata": {
            "tags": []
          },
          "execution_count": 13
        }
      ]
    },
    {
      "cell_type": "markdown",
      "metadata": {
        "id": "voPNd-Bt7qhZ"
      },
      "source": [
        "### Two Important Tools\n",
        "\n",
        "#### Backdoor Criterion\n",
        "\n",
        "#### Frontdoor Criterion"
      ]
    }
  ]
}